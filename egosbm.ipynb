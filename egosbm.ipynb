{
 "cells": [
  {
   "cell_type": "code",
   "execution_count": null,
   "metadata": {},
   "outputs": [],
   "source": [
    " def hopcroft_karp(bipartite_matrix):\n",
    "        \n",
    "        def bfs(bipartite_matrix, matching):\n",
    "            free_u = set(range(len(bipartite_matrix))) - {x[0] for x in matching}\n",
    "            free_v = set(range(len(bipartite_matrix[0]))) - {x[1] for x in matching}\n",
    "            visited_u = set()\n",
    "            visited_v = set()\n",
    "            q = list(zip(free_u, [0]*len(free_u)))\n",
    "            k = 0\n",
    "            set_v = set()\n",
    "            while q:\n",
    "                top, level = q.pop(0)\n",
    "                if level%2==0:\n",
    "                    if top not in visited_u:\n",
    "                        visited_u.add(top)\n",
    "                        q.append([(i, level+1) for i in range(len(bipartite_matrix[top])) if bipartite_matrix[top][i] and (top, i) not in matching])\n",
    "                else:\n",
    "                    if top not in visited_v:\n",
    "                        visited_v.add(top)\n",
    "                        q.append([(i, level+1) for i in range(len(bipartite_matrix)) if bipartite_matrix[i][top] and (i, top) in matching])\n",
    "                        if top in free_v:\n",
    "                            if k==0: k = level\n",
    "                            if level==k: set_v.add(top)\n",
    "                            else: break\n",
    "                        else:\n",
    "                            if k>0 and level>k: break\n",
    "            return set_v\n",
    "        \n",
    "        def dfs(bipartite_matrix, matching, set_v):\n",
    "            free_u = set(range(len(bipartite_matrix))) - {x[0] for x in matching}\n",
    "            visited_u = set()\n",
    "            visited_v = set()\n",
    "            s = list(zip(set_v, [0]*len(set_v)))\n",
    "            p = set()\n",
    "            while s:\n",
    "                top, level = s[-1]\n",
    "                if level%2==0:\n",
    "                    if top not in visited_v:\n",
    "                        visited_v.add(top)\n",
    "                        to_append = [(i, level+1) for i in range(len(bipartite_matrix)) if bipartite_matrix[i][top] and (i, top) in matching]\n",
    "                        if to_append: s.append(to_append)\n",
    "                    else: s.pop()\n",
    "                else:\n",
    "                    if top not in visited_u:\n",
    "                        visited_u.add(top)\n",
    "                        if top in free_u:\n",
    "                            if k\n",
    "                        to_append = [(i, level+1) for i in range(len(bipartite_matrix[top])) if bipartite_matrix[top][i] and (top, i) not in matching and i not in visited_v]\n",
    "                        if to_append: s.append(to_append)\n",
    "                    else: s.pop()\n",
    "                    \n",
    "                    \n",
    "                \n",
    "            \n",
    "        paths = set([len(bipartite_matrix)])\n",
    "        matchings = set()\n",
    "        \n",
    "        while paths:\n",
    "            \n",
    "   "
   ]
  },
  {
   "cell_type": "code",
   "execution_count": 458,
   "metadata": {},
   "outputs": [],
   "source": [
    "from collections.abc import MutableSequence\n",
    "\n",
    "class EgocentricSBM(MutableSequence):\n",
    "    \n",
    "    def __init__(self, num_blocks, dim_names=None, model_name='egocentric_sbm'):\n",
    "        \n",
    "        if not self.iterable(num_blocks): num_blocks = (num_blocks,)\n",
    "        num_blocks = tuple(num_blocks)\n",
    "        if not all([isinstance(b, int) and b>1 for b in num_blocks]): raise ValueError('number of blocks must be an integer greater than 1')\n",
    "        self._precision = 8\n",
    "        self._curridx = 0\n",
    "        self._currdim = 0\n",
    "        self.ndim = len(num_blocks)\n",
    "        self.shape = num_blocks\n",
    "        self.name = str(model_name)\n",
    "        self.dims = tuple()\n",
    "        self.dimsdict = dict()\n",
    "        self.dimsfull = tuple()\n",
    "        self.set_dims(dim_names)\n",
    "        self.pi = tuple([(1/b,)*b for b in num_blocks])\n",
    "        self.rho = tuple([(1/b,)*b for b in num_blocks])\n",
    "        self.omega = tuple([(0.,)*b for b in num_blocks])\n",
    "        self.check_consistency()\n",
    "        \n",
    "    @property\n",
    "    def precision(self):\n",
    "        return self._precision\n",
    "    \n",
    "    @precision.setter\n",
    "    def precision(self, value):\n",
    "        from warnings import warn\n",
    "        warn('setting \"precision\" can affect model consistency checks', RuntimeWarning)\n",
    "        self._precision = value\n",
    "        \n",
    "    def __str__(self):\n",
    "        out = ['name:\\t'+self.name]\n",
    "        out.append('ndim:\\t'+str(self.ndim))\n",
    "        out.append('shape:\\t'+str(self.shape))\n",
    "        out.append('----\\t------')\n",
    "        out.append('dims\\tblocks')\n",
    "        out.append('----\\t------')\n",
    "        out += [str(x[0])+'\\t'+str(x[1]) for x in self.dims]\n",
    "        out.append('----\\t------')\n",
    "        out.append('pi:\\t'+str(self.pi))\n",
    "        out.append('rho:\\t'+str(self.rho))\n",
    "        out.append('omega:\\t'+str(self.omega))\n",
    "        return '\\n'.join(out)\n",
    "    \n",
    "    def __len__(self):\n",
    "        return self.ndim\n",
    "    \n",
    "    def __copy__(self):\n",
    "        out = type(self)(self.shape, self.dims, self.name)\n",
    "        out.pi = self.pi\n",
    "        out.rho = self.rho\n",
    "        out.omega = self.omega\n",
    "        out._precision = self._precision\n",
    "        out._currdim = self._currdim\n",
    "        return out\n",
    "    \n",
    "    def copy(self):\n",
    "        return self.__copy__()\n",
    "    \n",
    "    def sort(self, inplace=True, reverse=True, blocks=True, dims=True):\n",
    "        idx_blocks = list()\n",
    "        if blocks or dims:\n",
    "            # sorts by pi, followed by omega to break ties, followed by rho to break ties\n",
    "            for i in range(self.ndim):\n",
    "                idx_blocks.append(tuple(sorted(zip(range(self.shape[i]), zip(self.pi[i], self.omega[i], self.rho[i])), key=lambda t: t[1], reverse=reverse)))\n",
    "        idx_dims = list()\n",
    "        if dims:\n",
    "            from itertools import chain\n",
    "            # sorts by number of blocks, followed by atts of block with largest pi, and so on\n",
    "            temp = [(self.shape[i],) + tuple(chain(*[x[1] for x in idx_blocks[i]])) for i in range(self.ndim)]\n",
    "            idx_dims = sorted(zip(range(self.ndim), temp), key=lambda t: t[1], reverse=reverse)\n",
    "        if inplace:\n",
    "            if dims:\n",
    "                self.shape = tuple([x[1][0] for x in idx_dims])\n",
    "                if blocks: temp = [(self.dims[x[0]][0], [self.dims[x[0]][1][y[0]] for y in idx_blocks[x[0]]]) for x in idx_dims]\n",
    "                else: temp = [self.dims[x[0]] for x in idx_dims]\n",
    "                self.set_dims(temp)\n",
    "            if blocks:\n",
    "                self.pi = tuple([tuple([y[1][0] for y in idx_blocks[x[0]]]) for x in idx_dims])\n",
    "                self.omega = tuple([tuple([y[1][1] for y in idx_blocks[x[0]]]) for x in idx_dims])\n",
    "                self.rho = tuple([tuple([y[1][2] for y in idx_blocks[x[0]]]) for x in idx_dims])\n",
    "        else:\n",
    "            if dims: idx_dims = [x[0] for x in idx_dims]\n",
    "            if blocks: idx_blocks = [[x[0] for x in y] for y in idx_blocks]\n",
    "            return idx_dims, idx_blocks\n",
    "    \n",
    "    def get_key(self, key):\n",
    "        if key in self.dimsdict:\n",
    "            key = self.dimsdict[key]\n",
    "        else:\n",
    "            if isinstance(key, int):\n",
    "                if key<0: key += self.ndim\n",
    "                if key>=0 and key<self.ndim: pass\n",
    "                else: raise IndexError('sbm index out of range; must be less than ndims')\n",
    "            else: raise KeyError('sbm key \"%s\" not found; must be dimension name'%str(key))\n",
    "        return key\n",
    "    \n",
    "    def insert(self, key, num_blocks, block_names=None):\n",
    "        if not (isinstance(num_blocks, int) and num_blocks>1): raise ValueError('number of blocks must be an integer greater than 1')\n",
    "        if key in self.dimsdict:\n",
    "            from warnings import warn\n",
    "            warn('this will replace dimension \"%s\" which already exists'%key)\n",
    "            key = self.dimsdict[key]\n",
    "            old_shape = self.shape\n",
    "            try:\n",
    "                temp = list(self.shape)\n",
    "                temp[key] = num_blocks\n",
    "                self.shape = tuple(temp)\n",
    "                temp = list(self.dims)\n",
    "                if block_names is None:\n",
    "                    temp[key] = temp[key][0]\n",
    "                    self.set_dims(temp)\n",
    "                elif block_names == 'old':\n",
    "                    if len(temp[key][1])!=num_blocks: raise ValueError('cannot retain old block names since new shape (%d) does not match the old shape (%d)'%(len(temp[key][1]), num_blocks))\n",
    "                else:\n",
    "                    temp[key] = (temp[key][0],  block_names)\n",
    "                    self.set_dims(temp)\n",
    "            except Exception as err:\n",
    "                self.shape = old_shape\n",
    "                raise err\n",
    "            temp = list(self.omega)\n",
    "            mean_omega = self.mean_omega()\n",
    "            if len(mean_omega)>0: mean_omega = mean_omega[0]\n",
    "            else: mean_omega = 0.0\n",
    "            temp[key] = (mean_omega,)*num_blocks\n",
    "            self.omega = tuple(temp)\n",
    "            temp = list(self.pi)\n",
    "            temp[key] = (1/num_blocks,)*num_blocks\n",
    "            self.pi = tuple(temp)\n",
    "            temp = list(self.rho)\n",
    "            temp[key] = (1/num_blocks,)*num_blocks\n",
    "            self.rho = tuple(temp)\n",
    "        elif isinstance(key, int) or isinstance(key, str):\n",
    "            if isinstance(key, str):\n",
    "                keyname = key\n",
    "                key = self.ndim\n",
    "            else: keyname = None\n",
    "            old_shape = self.shape\n",
    "            try:                \n",
    "                temp = list(self.shape)\n",
    "                temp.insert(key, num_blocks)\n",
    "                self.shape = tuple(temp)            \n",
    "                temp = list(self.dims)\n",
    "                if block_names is None: temp.insert(key, keyname)\n",
    "                else: temp.insert(key, (keyname,  block_names))\n",
    "                self.ndim += 1\n",
    "                self.set_dims(temp)\n",
    "            except Exception as err:\n",
    "                self.ndim -=1\n",
    "                self.shape = old_shape\n",
    "                raise err\n",
    "            temp = list(self.omega)\n",
    "            mean_omega = self.mean_omega()\n",
    "            if len(mean_omega)>0: mean_omega = mean_omega[0]\n",
    "            else: mean_omega = 0.0\n",
    "            temp.insert(key, (mean_omega,)*num_blocks)\n",
    "            self.omega = tuple(temp)\n",
    "            temp = list(self.pi)\n",
    "            temp.insert(key, (1/num_blocks,)*num_blocks)\n",
    "            self.pi = tuple(temp)\n",
    "            temp = list(self.rho)\n",
    "            temp.insert(key, (1/num_blocks,)*num_blocks)\n",
    "            self.rho = tuple(temp)\n",
    "        else: raise ValueError('either enter an integer index (dimension number) or a string key (dimension name)')\n",
    "    \n",
    "    def __getitem__(self, key):\n",
    "        key = self.get_key(key)\n",
    "        return {'index':key,\n",
    "                'name':self.dims[key][0], \n",
    "                'blocks':self.dims[key][1], \n",
    "                'pi':self.pi[key], \n",
    "                'rho':self.rho[key], \n",
    "                'omega':self.omega[key]}\n",
    "    \n",
    "    def __setitem__(self, key, value):\n",
    "        if self.iterable(key):\n",
    "            if len(key)==2:\n",
    "                k = self.get_key(key[0])\n",
    "                if key[1]=='pi':\n",
    "                    curr_pi = self.pi\n",
    "                    curr_pi[k] = value\n",
    "                    self.set_pi(curr_pi)\n",
    "                elif key[1]=='rho':\n",
    "                    curr_rho = self.rho\n",
    "                    curr_rho[k] = value\n",
    "                    self.set_rho(curr_rho)\n",
    "                elif key[1]=='omega':\n",
    "                    curr_omega = self.omega\n",
    "                    curr_omega[k] = value\n",
    "                    self.set_omega(curr_omega)\n",
    "                elif key[1]=='name': raise ValueError('cannot set dim name by indexing; use method set_dims()')\n",
    "                else: raise ValueError('no such property \"%s\"'%str(key[1]))\n",
    "            else: raise ValueError('provide a (d, p) tuple to set property \"p\" of dimension \"d\"')\n",
    "        else:\n",
    "            raise ValueError('provide a (d, p) tuple to set property \"p\" of dimension \"d\"')\n",
    "            \n",
    "    def __delitem__(self, key):\n",
    "        key = self.get_key(key)\n",
    "        self.ndim -= 1\n",
    "        temp = list(self.shape)\n",
    "        temp.pop(key)\n",
    "        self.shape = tuple(temp)\n",
    "        temp = list(self.pi)\n",
    "        pi = temp.pop(key)\n",
    "        self.pi = tuple(temp)\n",
    "        temp = list(self.rho)\n",
    "        rho = temp.pop(key)\n",
    "        self.rho = tuple(temp)\n",
    "        temp = list(self.omega)\n",
    "        omega = temp.pop(key)\n",
    "        self.omega = tuple(temp)\n",
    "        temp = list(self.dims)\n",
    "        dims = temp.pop(key)\n",
    "        self.dims = tuple(temp)\n",
    "        self.dimsdict = dict(zip(temp, range(self.ndim)))\n",
    "        dims_flat = [[(dim[0], d) for d in dim[1]] for dim in temp]\n",
    "        from itertools import product\n",
    "        self.dimsfull = tuple(product(*dims_flat))\n",
    "        return {'index':key,\n",
    "                'name':dims[0], \n",
    "                'blocks':dims[1], \n",
    "                'pi':pi, \n",
    "                'rho':rho, \n",
    "                'omega':omega}\n",
    "        \n",
    "    def __contains__(self, key):\n",
    "        return key in self.dimsdict\n",
    "    \n",
    "    def __iter__(self):\n",
    "        return self\n",
    "    \n",
    "    def __next__(self):\n",
    "        if self._curridx>=self.ndim:\n",
    "            self._curridx = 0\n",
    "            raise StopIteration\n",
    "        else:\n",
    "            self._curridx += 1\n",
    "            return self[self._curridx-1]\n",
    "        \n",
    "    def __eq__(self, other):\n",
    "        x = self.copy()\n",
    "        y = other.copy()\n",
    "        x.sort()\n",
    "        y.sort()\n",
    "        return x.pi==y.pi and x.rho==y.rho and x.omega==y.omega\n",
    "     \n",
    "    def __lt__(self, other):\n",
    "        if self.ndim < other.ndim:\n",
    "            x = self.copy()\n",
    "            y = other.copy()\n",
    "            x.sort()\n",
    "            y.sort()\n",
    "            i = 0\n",
    "            j = 0\n",
    "            while i<self.ndim:\n",
    "                found = False\n",
    "                while j<other.ndim:\n",
    "                    if x.pi[i]==y.pi[j] and x.rho[i]==y.rho[j] and x.omega[i]==y.omega[j]:\n",
    "                        found = True\n",
    "                        break\n",
    "                    else: j+=1\n",
    "                if not found: return False\n",
    "                else:\n",
    "                    i+=1\n",
    "            return True \n",
    "        else: return False\n",
    "        \n",
    "    def __le__(self, other):\n",
    "        if self==other: return True\n",
    "        else: return self<other\n",
    "    \n",
    "    def iterable(self, obj):\n",
    "        if isinstance(obj, str): return False\n",
    "        try:\n",
    "            iter(obj)\n",
    "            return True\n",
    "        except TypeError: return False\n",
    "    \n",
    "    def sum_pi(self, pi=None, approx=False):\n",
    "        if pi is None: pi = self.pi\n",
    "        out = [sum(p) for p in pi]\n",
    "        if approx: out = [round(x, self.precision) for x in out]\n",
    "        return out\n",
    "    \n",
    "    def sum_rho(self, rho=None, approx=False):\n",
    "        if rho is None: rho = self.rho\n",
    "        out = [sum(r) for r in rho]\n",
    "        if approx: out = [round(x, self.precision) for x in out]\n",
    "        return out\n",
    "    \n",
    "    def dev_pi(self, pi=None, approx=False):\n",
    "        if pi is None: pi = self.pi\n",
    "        out = [sum([i**2 for i in p]) for p in pi]\n",
    "        if approx: out = [round(x, self.precision) for x in out]\n",
    "        return out\n",
    "    \n",
    "    def mean_rho(self, rho=None, pi=None, approx=False):\n",
    "        if pi is None: pi = self.pi\n",
    "        if rho is None: rho = self.rho\n",
    "        out = [sum([m*n for m, n in zip(r, p)]) for r, p in zip(rho, pi)]\n",
    "        if approx: out = [round(x, self.precision) for x in out]\n",
    "        return out\n",
    "    \n",
    "    def mean_omega(self, omega=None, pi=None, approx=False):\n",
    "        if pi is None: pi = self.pi\n",
    "        if omega is None: omega = self.omega\n",
    "        out = [sum([m*n for m, n in zip(o, p)]) for o, p in zip(omega, pi)]\n",
    "        if approx: out = [round(x, self.precision) for x in out]\n",
    "        return out\n",
    "    \n",
    "    def mean_homophily(self, rho=None, approx=False):\n",
    "        return self.sum_rho(rho, approx)\n",
    "    \n",
    "    def mean_heterophily(self, rho=None, pi=None, approx=False):\n",
    "        if pi is None: pi = self.pi\n",
    "        if rho is None: rho = self.rho\n",
    "        out = [sum([(1-m)*n/(1-n) for m, n in zip(r, p)]) for r, p in zip(rho, pi)]\n",
    "        if approx: out = [round(x, self.precision) for x in out]\n",
    "        return out\n",
    "    \n",
    "    def mean_homoffinity(self, omega=None, rho=None, approx=False):\n",
    "        if rho is None: rho = self.rho\n",
    "        if omega is None: omega = self.omega\n",
    "        out = [sum([m*n for m, n in zip(o, r)]) for o, r in zip(omega, rho)]\n",
    "        if approx: out = [round(x, self.precision) for x in out]\n",
    "        return out\n",
    "    \n",
    "    def mean_heteroffinity(self, omega=None, rho=None, pi=None, approx=False):\n",
    "        if pi is None: pi = self.pi\n",
    "        if rho is None: rho = self.rho\n",
    "        if omega is None: omega = self.omega\n",
    "        out = [sum([(1-m)*n*w/(1-n) for w, m, n in zip(o, r, p)]) for o, r, p in zip(omega, rho, pi)]\n",
    "        if approx: out = [round(x, self.precision) for x in out]\n",
    "        return out\n",
    "\n",
    "    def check_consistency(self, pi=None, omega=None, rho=None):\n",
    "        if pi is None: pi = self.pi\n",
    "        if omega is None: omega = self.omega\n",
    "        if rho is None: rho = self.rho\n",
    "        #pi tests\n",
    "        if not all([all([0<i<1 for i in p])for p in pi]): raise ValueError('pi must be between 0 and 1 (exclusive)')\n",
    "        if not all([p==1 for p in self.sum_pi(pi=pi, approx=True)]): raise ValueError('pi must sum up to 1')\n",
    "        #omega tests\n",
    "        if not all([all([0<=i for i in o])for o in omega]): raise ValueError('omega must be >=0')\n",
    "        mean_omega = self.mean_omega(omega=omega, approx=True)\n",
    "        for i in range(1, len(mean_omega)):\n",
    "            if not mean_omega[i] == mean_omega[0]: raise ValueError('mean omega must remain same')\n",
    "        #rho tests\n",
    "        if not all([all([0<=i<=1 for i in r])for r in rho]): raise ValueError('rho must be between 0 and 1 (inclusive)')\n",
    "\n",
    "    def get_nextdim(self):\n",
    "        while str(self._currdim) in self.dimsdict:\n",
    "            self._currdim += 1\n",
    "        self._currdim += 1\n",
    "        return str(self._currdim-1)\n",
    "    \n",
    "    def set_dims(self, dims=None):\n",
    "        if dims is None: dims = [None for i in range(self.ndim)]\n",
    "        if not self.iterable(dims): raise ValueError('provide all dimension names')\n",
    "        dims = list(dims)\n",
    "        if len(dims)!=self.ndim: raise ValueError('provide names for each dimension')\n",
    "        dim_set = []\n",
    "        for i in range(self.ndim):\n",
    "            if self.iterable(dims[i]):\n",
    "                found = False\n",
    "                if len(dims[i])==2:\n",
    "                    if (not self.iterable(dims[i][0])) and self.iterable(dims[i][1]):\n",
    "                        if len(dims[i][1])==self.shape[i] and all([not self.iterable(j) for j in dims[i][1]]):\n",
    "                            if len(set(dims[i][1]))!=self.shape[i]: raise ValueError('provide *unique* names for each block of dimension %d'%i)\n",
    "                            else:\n",
    "                                found = True\n",
    "                                if dims[i][0] is None: dims[i] = (self.get_nextdim(), tuple(dims[i][1]))\n",
    "                                else: dims[i] = (dims[i][0], tuple(dims[i][1]))\n",
    "                        else: raise ValueError('provide names for each block of dimension %d'%i)\n",
    "                if (not found) and len(dims[i])==self.shape[i] and all([not self.iterable(j) for j in dims[i]]):\n",
    "                    if len(set(dims[i]))!=self.shape[i]: raise ValueError('provide *unique* names for each block of dimension %d'%i)\n",
    "                    else:\n",
    "                        found = True\n",
    "                        dims[i] = (str(i), tuple(dims[i]))\n",
    "                if not found: raise ValueError('provide names for each block of dimension %d'%i)\n",
    "            else:\n",
    "                if dims[i] is None: dims[i] = self.get_nextdim()\n",
    "                dims[i] = (dims[i], tuple([str(j) for j in range(self.shape[i])]))\n",
    "            if dims[i][0] in dim_set: raise ValueError('provide *unique* name for each dimension; clash on \"%s\"'%str(dims[i][0]))\n",
    "            else: dim_set.append(dims[i][0])        \n",
    "        if any([not isinstance(dim, str) for dim in dim_set]): raise TypeError('dimension names must be strings')\n",
    "        self.dims = tuple(dims)\n",
    "        self.dimsdict = dict(zip(dim_set, range(self.ndim)))\n",
    "        dims_flat = [[(dim[0]+':'+str(d)) for d in dim[1]] for dim in dims]\n",
    "        from itertools import product\n",
    "        self.dimsfull = tuple([','.join(i) for i in product(*dims_flat)])\n",
    "\n",
    "    def set_pi(self, pi=None):\n",
    "        if pi is None: pi = tuple([(1/b,)*b for b in self.shape])\n",
    "        if not self.iterable(pi): pi = tuple([(float(pi),)*b for b in self.shape])\n",
    "        pi = list(pi)\n",
    "        if all([not self.iterable(p) for p in pi]) and self.ndim==1: pi = [pi]\n",
    "        if len(pi)!=self.ndim: raise ValueError('provide pi for every dimension')\n",
    "        for i in range(self.ndim):\n",
    "            if not self.iterable(pi[i]): pi[i] = (pi[i],)*self.shape[i]\n",
    "            if len(pi[i])!=self.shape[i]: raise ValueError('provide pi for every block of dimension %d'%i)\n",
    "            else: pi[i] = tuple(pi[i])\n",
    "        pi = tuple(pi)\n",
    "        self.check_consistency(pi=pi)\n",
    "        self.pi = pi\n",
    "        \n",
    "    def set_omega(self, omega=0.):\n",
    "        if not self.iterable(omega): omega = tuple([(float(omega),)*b for b in self.shape])\n",
    "        omega = list(omega)\n",
    "        if all([not self.iterable(o) for o in omega]) and self.ndim==1: omega = [omega]\n",
    "        if len(omega)!=self.ndim: raise ValueError('provide omega for every dimension')\n",
    "        for i in range(self.ndim):\n",
    "            if not self.iterable(omega[i]): omega[i] = (omega[i],)*self.shape[i]\n",
    "            if len(omega[i])!=self.shape[i]: raise ValueError('provide omega for every block of dimension %d'%i)\n",
    "            else: omega[i] = tuple(omega[i])\n",
    "        omega = tuple(omega)\n",
    "        self.check_consistency(omega=omega)\n",
    "        self.omega = omega\n",
    "        \n",
    "    def set_rho(self, rho=None):\n",
    "        if rho is None: rho = tuple([(1/b,)*b for b in self.shape])\n",
    "        if not self.iterable(rho): rho = tuple([(float(rho),)*b for b in self.shape])\n",
    "        rho = list(rho)\n",
    "        if all([not self.iterable(r) for r in rho]) and self.ndim==1: rho = [rho]\n",
    "        if len(rho)!=self.ndim: raise ValueError('provide rho for every dimension')\n",
    "        for i in range(self.ndim):\n",
    "            if not self.iterable(rho[i]): rho[i] = (rho[i],)*self.shape[i]\n",
    "            if len(rho[i])!=self.shape[i]: raise ValueError('provide rho for every block of dimension %d'%i)\n",
    "            else: rho[i] = tuple(rho[i])\n",
    "        rho = tuple(rho)\n",
    "        self.check_consistency(rho=rho)\n",
    "        self.rho = rho\n",
    "    \n",
    "    class StochasticBlockModel():\n",
    "        \n",
    "        def __init__(self, egocentric_sbm, model_type='full', model_name='sbm'):\n",
    "            \n",
    "            if model_type not in ['full', 'pp', 'ppcollapsed']: raise ValueError('invalid model type \"%s\"'%model_type)\n",
    "            self.type = model_type\n",
    "            self.name = model_name\n",
    "            self.dims = egocentric_sbm.dims\n",
    "            self.dimsfull = egocentric_sbm.dimsfull\n",
    "            \n",
    "            import numpy as np\n",
    "            \n",
    "            def kron(list_of_mats):\n",
    "                a = list_of_mats[0].copy()\n",
    "                for i in range(1, len(list_of_mats)):\n",
    "                    a = np.kron(a, list_of_mats[i])\n",
    "                return a\n",
    "            \n",
    "            if model_type=='full':\n",
    "                self.params = [[(o, r/p, (1-r)/(1-p)) for r, o, p in zip(egocentric_sbm.rho[i], egocentric_sbm.omega[i], egocentric_sbm.pi[i])] for i in range(egocentric_sbm.ndim)]\n",
    "                self.matrix = [(np.diag([x[0] for x in item]), np.diag([x[1]-x[2] for x in item])+np.vstack([x[2]*np.ones(len(item)) for x in item])) for item in self.params]\n",
    "                self.matrixfull = (kron([x[0] for x in self.matrix]), kron([x[1] for x in self.matrix]))\n",
    "            elif model_type=='pp': #planted-partition model\n",
    "                self.params = (egocentric_sbm.mean_omega()[0], list(zip(egocentric_sbm.mean_homophily(), egocentric_sbm.mean_heterophily())))\n",
    "                self.matrix = [(self.params[0]*np.eye(egocentric_sbm.shape[i]), (self.params[1][i][0]-self.params[1][i][1])*np.eye(egocentric_sbm.shape[i])+self.params[1][i][1]*np.ones([egocentric_sbm.shape[i], egocentric_sbm.shape[i]])) for i in range(egocentric_sbm.ndim)]\n",
    "                self.matrixfull = (kron([x[0] for x in self.matrix]), kron([x[1] for x in self.matrix]))\n",
    "            elif model_type=='ppcollapsed':\n",
    "                self.params = list(zip(egocentric_sbm.mean_homoffinity(), egocentric_sbm.mean_heteroffinity()))\n",
    "                self.matrix = [(self.params[i][0]-self.params[i][1])*np.eye(egocentric_sbm.shape[i])+self.params[i][1]*np.ones([egocentric_sbm.shape[i], egocentric_sbm.shape[i]]) for i in range(egocentric_sbm.ndim)]\n",
    "                self.matrixfull = kron(self.matrix)\n",
    "    \n",
    "    def get_model(self, model_type='full', model_name='sbm'):\n",
    "        return self.StochasticBlockModel(self, model_type, model_name)"
   ]
  },
  {
   "cell_type": "code",
   "execution_count": 426,
   "metadata": {},
   "outputs": [
    {
     "name": "stdout",
     "output_type": "stream",
     "text": [
      "[(2, 0.8, 0.0, 0.8, 0.2, 0.0, 1), (2, 0.8, 0.0, 0.9, 0.2, 0.0, 0)]\n"
     ]
    },
    {
     "data": {
      "text/plain": [
       "([1, 0], [[1, 0], [0, 1]])"
      ]
     },
     "execution_count": 426,
     "metadata": {},
     "output_type": "execute_result"
    }
   ],
   "source": [
    "d3.sort()"
   ]
  },
  {
   "cell_type": "code",
   "execution_count": 425,
   "metadata": {},
   "outputs": [],
   "source": [
    "d3.set_pi([[0.2,0.8],[0.8,0.2]])\n",
    "d3.set_rho([[1,0.8],[0.9,0]])"
   ]
  },
  {
   "cell_type": "code",
   "execution_count": 459,
   "metadata": {},
   "outputs": [],
   "source": [
    "d1 = EgocentricSBM([2,4])\n",
    "d2 = EgocentricSBM([2,3])\n",
    "d3 = EgocentricSBM([2,2])"
   ]
  },
  {
   "cell_type": "code",
   "execution_count": 469,
   "metadata": {},
   "outputs": [],
   "source": [
    "d1.set_pi([[0.5,0.5],[0.2,0.2,0.4,0.2]])\n",
    "d1.set_omega([[4, 6], 5])\n",
    "d1.set_rho((1,[1,0.5,0.1,0.5]))"
   ]
  },
  {
   "cell_type": "code",
   "execution_count": 471,
   "metadata": {},
   "outputs": [
    {
     "data": {
      "text/plain": [
       "False"
      ]
     },
     "execution_count": 471,
     "metadata": {},
     "output_type": "execute_result"
    }
   ],
   "source": [
    "d5 <= d1"
   ]
  },
  {
   "cell_type": "code",
   "execution_count": 461,
   "metadata": {},
   "outputs": [],
   "source": [
    "d5 = d1.copy()"
   ]
  },
  {
   "cell_type": "code",
   "execution_count": 464,
   "metadata": {},
   "outputs": [],
   "source": [
    "del d5[0]"
   ]
  },
  {
   "cell_type": "code",
   "execution_count": 437,
   "metadata": {},
   "outputs": [
    {
     "data": {
      "text/plain": [
       "True"
      ]
     },
     "execution_count": 437,
     "metadata": {},
     "output_type": "execute_result"
    }
   ],
   "source": [
    "d1 == d5"
   ]
  },
  {
   "cell_type": "code",
   "execution_count": 392,
   "metadata": {},
   "outputs": [
    {
     "data": {
      "text/plain": [
       "True"
      ]
     },
     "execution_count": 392,
     "metadata": {},
     "output_type": "execute_result"
    }
   ],
   "source": [
    "d1 == d5"
   ]
  },
  {
   "cell_type": "code",
   "execution_count": 279,
   "metadata": {},
   "outputs": [],
   "source": [
    "del d1[0]"
   ]
  },
  {
   "cell_type": "code",
   "execution_count": 281,
   "metadata": {},
   "outputs": [
    {
     "name": "stdout",
     "output_type": "stream",
     "text": [
      "name:\tegocentric_sbm\n",
      "ndim:\t2\n",
      "shape:\t(2, 4)\n",
      "----\t------\n",
      "dims\tblocks\n",
      "----\t------\n",
      "0\t(0, 1)\n",
      "1\t(2, 3, 4, 5)\n",
      "----\t------\n",
      "pi:\t((0.8, 0.2), (0.4, 0.3, 0.2, 0.1))\n",
      "rho:\t((0.5, 0.5), (0.25, 0.25, 0.25, 0.25))\n",
      "omega:\t((5.0, 5.0), (5.0, 5.0, 5.0, 5.0))\n"
     ]
    }
   ],
   "source": [
    "print(d5)"
   ]
  },
  {
   "cell_type": "code",
   "execution_count": 151,
   "metadata": {},
   "outputs": [
    {
     "data": {
      "text/plain": [
       "{0: {'index': 0,\n",
       "  'name': '0',\n",
       "  'blocks': ('0', '1'),\n",
       "  'pi': (0.8, 0.2),\n",
       "  'rho': (0.5, 0.5),\n",
       "  'omega': (5.0, 5.0)},\n",
       " 1: {'index': 1,\n",
       "  'name': '1',\n",
       "  'blocks': ('0', '1', '2', '3'),\n",
       "  'pi': (0.4, 0.3, 0.2, 0.1),\n",
       "  'rho': (0.25, 0.25, 0.25, 0.25),\n",
       "  'omega': (5.0, 5.0, 5.0, 5.0)}}"
      ]
     },
     "execution_count": 151,
     "metadata": {},
     "output_type": "execute_result"
    }
   ],
   "source": [
    "dict(zip(range(len(d1)), iter(d1)))"
   ]
  },
  {
   "cell_type": "code",
   "execution_count": 163,
   "metadata": {},
   "outputs": [],
   "source": [
    "g=iter(d1)"
   ]
  },
  {
   "cell_type": "code",
   "execution_count": 166,
   "metadata": {},
   "outputs": [
    {
     "ename": "StopIteration",
     "evalue": "",
     "output_type": "error",
     "traceback": [
      "\u001b[1;31m---------------------------------------------------------------------------\u001b[0m",
      "\u001b[1;31mStopIteration\u001b[0m                             Traceback (most recent call last)",
      "\u001b[1;32m<ipython-input-166-e734f8aca5ac>\u001b[0m in \u001b[0;36m<module>\u001b[1;34m()\u001b[0m\n\u001b[1;32m----> 1\u001b[1;33m \u001b[0mnext\u001b[0m\u001b[1;33m(\u001b[0m\u001b[0mg\u001b[0m\u001b[1;33m)\u001b[0m\u001b[1;33m\u001b[0m\u001b[0m\n\u001b[0m",
      "\u001b[1;32m<ipython-input-157-2ccb693a6c6f>\u001b[0m in \u001b[0;36m__next__\u001b[1;34m(self)\u001b[0m\n\u001b[0;32m    197\u001b[0m         \u001b[1;32mif\u001b[0m \u001b[0mself\u001b[0m\u001b[1;33m.\u001b[0m\u001b[0m_curridx\u001b[0m\u001b[1;33m>=\u001b[0m\u001b[0mself\u001b[0m\u001b[1;33m.\u001b[0m\u001b[0mndim\u001b[0m\u001b[1;33m:\u001b[0m\u001b[1;33m\u001b[0m\u001b[0m\n\u001b[0;32m    198\u001b[0m             \u001b[0mself\u001b[0m\u001b[1;33m.\u001b[0m\u001b[0m_curridx\u001b[0m \u001b[1;33m=\u001b[0m \u001b[1;36m0\u001b[0m\u001b[1;33m\u001b[0m\u001b[0m\n\u001b[1;32m--> 199\u001b[1;33m             \u001b[1;32mraise\u001b[0m \u001b[0mStopIteration\u001b[0m\u001b[1;33m\u001b[0m\u001b[0m\n\u001b[0m\u001b[0;32m    200\u001b[0m         \u001b[1;32melse\u001b[0m\u001b[1;33m:\u001b[0m\u001b[1;33m\u001b[0m\u001b[0m\n\u001b[0;32m    201\u001b[0m             \u001b[0mself\u001b[0m\u001b[1;33m.\u001b[0m\u001b[0m_curridx\u001b[0m \u001b[1;33m+=\u001b[0m \u001b[1;36m1\u001b[0m\u001b[1;33m\u001b[0m\u001b[0m\n",
      "\u001b[1;31mStopIteration\u001b[0m: "
     ]
    }
   ],
   "source": [
    "next(g)"
   ]
  },
  {
   "cell_type": "code",
   "execution_count": 167,
   "metadata": {},
   "outputs": [
    {
     "name": "stdout",
     "output_type": "stream",
     "text": [
      "name:\tegocentric_sbm\n",
      "ndim:\t2\n",
      "shape:\t(2, 4)\n",
      "----\t------\n",
      "dims\tblocks\n",
      "----\t------\n",
      "0\t('0', '1')\n",
      "1\t('0', '1', '2', '3')\n",
      "----\t------\n",
      "pi:\t((0.8, 0.2), (0.4, 0.3, 0.2, 0.1))\n",
      "rho:\t((0.5, 0.5), (0.25, 0.25, 0.25, 0.25))\n",
      "omega:\t((5.0, 5.0), (5.0, 5.0, 5.0, 5.0))\n"
     ]
    }
   ],
   "source": [
    "print(d1)"
   ]
  },
  {
   "cell_type": "code",
   "execution_count": 170,
   "metadata": {},
   "outputs": [],
   "source": [
    "from itertools import cycle"
   ]
  },
  {
   "cell_type": "code",
   "execution_count": 171,
   "metadata": {},
   "outputs": [],
   "source": [
    "j=cycle(d1)"
   ]
  },
  {
   "cell_type": "code",
   "execution_count": 172,
   "metadata": {},
   "outputs": [
    {
     "data": {
      "text/plain": [
       "<itertools.cycle at 0x20dfbc85990>"
      ]
     },
     "execution_count": 172,
     "metadata": {},
     "output_type": "execute_result"
    }
   ],
   "source": [
    "j"
   ]
  },
  {
   "cell_type": "code",
   "execution_count": 178,
   "metadata": {},
   "outputs": [
    {
     "data": {
      "text/plain": [
       "{'index': 1,\n",
       " 'name': '1',\n",
       " 'blocks': ('0', '1', '2', '3'),\n",
       " 'pi': (0.4, 0.3, 0.2, 0.1),\n",
       " 'rho': (0.25, 0.25, 0.25, 0.25),\n",
       " 'omega': (5.0, 5.0, 5.0, 5.0)}"
      ]
     },
     "execution_count": 178,
     "metadata": {},
     "output_type": "execute_result"
    }
   ],
   "source": [
    "next(j)"
   ]
  },
  {
   "cell_type": "code",
   "execution_count": 179,
   "metadata": {},
   "outputs": [
    {
     "name": "stdout",
     "output_type": "stream",
     "text": [
      "name:\tegocentric_sbm\n",
      "ndim:\t2\n",
      "shape:\t(2, 4)\n",
      "----\t------\n",
      "dims\tblocks\n",
      "----\t------\n",
      "0\t('0', '1')\n",
      "1\t('0', '1', '2', '3')\n",
      "----\t------\n",
      "pi:\t((0.8, 0.2), (0.4, 0.3, 0.2, 0.1))\n",
      "rho:\t((0.5, 0.5), (0.25, 0.25, 0.25, 0.25))\n",
      "omega:\t((5.0, 5.0), (5.0, 5.0, 5.0, 5.0))\n"
     ]
    }
   ],
   "source": [
    "print(d1)"
   ]
  },
  {
   "cell_type": "code",
   "execution_count": 185,
   "metadata": {},
   "outputs": [
    {
     "data": {
      "text/plain": [
       "-9223371895660953333"
      ]
     },
     "execution_count": 185,
     "metadata": {},
     "output_type": "execute_result"
    }
   ],
   "source": [
    "hash(d1)"
   ]
  },
  {
   "cell_type": "code",
   "execution_count": 188,
   "metadata": {},
   "outputs": [
    {
     "name": "stdout",
     "output_type": "stream",
     "text": [
      "name:\tegocentric_sbm\n",
      "ndim:\t2\n",
      "shape:\t(2, 4)\n",
      "----\t------\n",
      "dims\tblocks\n",
      "----\t------\n",
      "0\t('0', '1')\n",
      "1\t('0', '1', '2', '3')\n",
      "----\t------\n",
      "pi:\t((0.5, 0.5), (0.25, 0.25, 0.25, 0.25))\n",
      "rho:\t((0.5, 0.5), (0.25, 0.25, 0.25, 0.25))\n",
      "omega:\t((0.0, 0.0), (0.0, 0.0, 0.0, 0.0)) name:\tegocentric_sbm\n",
      "ndim:\t2\n",
      "shape:\t(2, 3)\n",
      "----\t------\n",
      "dims\tblocks\n",
      "----\t------\n",
      "0\t('0', '1')\n",
      "1\t('0', '1', '2')\n",
      "----\t------\n",
      "pi:\t((0.5, 0.5), (0.3333333333333333, 0.3333333333333333, 0.3333333333333333))\n",
      "rho:\t((0.5, 0.5), (0.3333333333333333, 0.3333333333333333, 0.3333333333333333))\n",
      "omega:\t((0.0, 0.0), (0.0, 0.0, 0.0))\n"
     ]
    }
   ],
   "source": [
    "print(d1,d2)"
   ]
  },
  {
   "cell_type": "code",
   "execution_count": 190,
   "metadata": {},
   "outputs": [
    {
     "ename": "TypeError",
     "evalue": "unhashable type: 'set'",
     "output_type": "error",
     "traceback": [
      "\u001b[1;31m---------------------------------------------------------------------------\u001b[0m",
      "\u001b[1;31mTypeError\u001b[0m                                 Traceback (most recent call last)",
      "\u001b[1;32m<ipython-input-190-d5ba4eb1a90a>\u001b[0m in \u001b[0;36m<module>\u001b[1;34m()\u001b[0m\n\u001b[1;32m----> 1\u001b[1;33m \u001b[0mhash\u001b[0m\u001b[1;33m(\u001b[0m\u001b[1;33m{\u001b[0m\u001b[1;36m1\u001b[0m\u001b[1;33m,\u001b[0m\u001b[1;36m2\u001b[0m\u001b[1;33m,\u001b[0m\u001b[1;36m3\u001b[0m\u001b[1;33m}\u001b[0m\u001b[1;33m)\u001b[0m\u001b[1;33m\u001b[0m\u001b[0m\n\u001b[0m",
      "\u001b[1;31mTypeError\u001b[0m: unhashable type: 'set'"
     ]
    }
   ],
   "source": [
    "hash({1,2,3})"
   ]
  },
  {
   "cell_type": "code",
   "execution_count": 201,
   "metadata": {},
   "outputs": [
    {
     "name": "stdout",
     "output_type": "stream",
     "text": [
      "name:\tegocentric_sbm\n",
      "ndim:\t2\n",
      "shape:\t(2, 4)\n",
      "----\t------\n",
      "dims\tblocks\n",
      "----\t------\n",
      "0\t('0', '1')\n",
      "1\t('0', '1', '2', '3')\n",
      "----\t------\n",
      "pi:\t((0.5, 0.5), (0.25, 0.25, 0.25, 0.25))\n",
      "rho:\t((0.5, 0.5), (0.25, 0.25, 0.25, 0.25))\n",
      "omega:\t((0.0, 0.0), (0.0, 0.0, 0.0, 0.0))\n"
     ]
    }
   ],
   "source": [
    "print(d3)"
   ]
  },
  {
   "cell_type": "code",
   "execution_count": 196,
   "metadata": {},
   "outputs": [
    {
     "data": {
      "text/plain": [
       "__main__.EgocentricSBM"
      ]
     },
     "execution_count": 196,
     "metadata": {},
     "output_type": "execute_result"
    }
   ],
   "source": [
    "type(d1)"
   ]
  },
  {
   "cell_type": "code",
   "execution_count": 206,
   "metadata": {},
   "outputs": [
    {
     "data": {
      "text/plain": [
       "True"
      ]
     },
     "execution_count": 206,
     "metadata": {},
     "output_type": "execute_result"
    }
   ],
   "source": [
    "d3 == d1"
   ]
  },
  {
   "cell_type": "code",
   "execution_count": 209,
   "metadata": {},
   "outputs": [
    {
     "ename": "AttributeError",
     "evalue": "'tuple' object has no attribute 'copy'",
     "output_type": "error",
     "traceback": [
      "\u001b[1;31m---------------------------------------------------------------------------\u001b[0m",
      "\u001b[1;31mAttributeError\u001b[0m                            Traceback (most recent call last)",
      "\u001b[1;32m<ipython-input-209-73e83b0df164>\u001b[0m in \u001b[0;36m<module>\u001b[1;34m()\u001b[0m\n\u001b[1;32m----> 1\u001b[1;33m \u001b[0md3\u001b[0m\u001b[1;33m[\u001b[0m\u001b[1;33m(\u001b[0m\u001b[1;36m0\u001b[0m\u001b[1;33m,\u001b[0m \u001b[1;34m'pi'\u001b[0m\u001b[1;33m)\u001b[0m\u001b[1;33m]\u001b[0m \u001b[1;33m=\u001b[0m \u001b[1;33m[\u001b[0m\u001b[1;36m0.8\u001b[0m\u001b[1;33m,\u001b[0m\u001b[1;36m0.2\u001b[0m\u001b[1;33m]\u001b[0m\u001b[1;33m\u001b[0m\u001b[0m\n\u001b[0m",
      "\u001b[1;32m<ipython-input-197-d87afcd78be9>\u001b[0m in \u001b[0;36m__setitem__\u001b[1;34m(self, key, value)\u001b[0m\n\u001b[0;32m    143\u001b[0m                 \u001b[0mk\u001b[0m \u001b[1;33m=\u001b[0m \u001b[0mself\u001b[0m\u001b[1;33m.\u001b[0m\u001b[0mget_key\u001b[0m\u001b[1;33m(\u001b[0m\u001b[0mkey\u001b[0m\u001b[1;33m[\u001b[0m\u001b[1;36m0\u001b[0m\u001b[1;33m]\u001b[0m\u001b[1;33m)\u001b[0m\u001b[1;33m\u001b[0m\u001b[0m\n\u001b[0;32m    144\u001b[0m                 \u001b[1;32mif\u001b[0m \u001b[0mkey\u001b[0m\u001b[1;33m[\u001b[0m\u001b[1;36m1\u001b[0m\u001b[1;33m]\u001b[0m\u001b[1;33m==\u001b[0m\u001b[1;34m'pi'\u001b[0m\u001b[1;33m:\u001b[0m\u001b[1;33m\u001b[0m\u001b[0m\n\u001b[1;32m--> 145\u001b[1;33m                     \u001b[0mcurr_pi\u001b[0m \u001b[1;33m=\u001b[0m \u001b[0mself\u001b[0m\u001b[1;33m.\u001b[0m\u001b[0mpi\u001b[0m\u001b[1;33m.\u001b[0m\u001b[0mcopy\u001b[0m\u001b[1;33m(\u001b[0m\u001b[1;33m)\u001b[0m\u001b[1;33m\u001b[0m\u001b[0m\n\u001b[0m\u001b[0;32m    146\u001b[0m                     \u001b[0mcurr_pi\u001b[0m\u001b[1;33m[\u001b[0m\u001b[0mk\u001b[0m\u001b[1;33m]\u001b[0m \u001b[1;33m=\u001b[0m \u001b[0mvalue\u001b[0m\u001b[1;33m\u001b[0m\u001b[0m\n\u001b[0;32m    147\u001b[0m                     \u001b[0mself\u001b[0m\u001b[1;33m.\u001b[0m\u001b[0mset_pi\u001b[0m\u001b[1;33m(\u001b[0m\u001b[0mcurr_pi\u001b[0m\u001b[1;33m)\u001b[0m\u001b[1;33m\u001b[0m\u001b[0m\n",
      "\u001b[1;31mAttributeError\u001b[0m: 'tuple' object has no attribute 'copy'"
     ]
    }
   ],
   "source": [
    "d3[(0, 'pi')] = [0.8,0.2]"
   ]
  },
  {
   "cell_type": "code",
   "execution_count": 208,
   "metadata": {},
   "outputs": [
    {
     "name": "stdout",
     "output_type": "stream",
     "text": [
      "The system cannot find the file specified.\n"
     ]
    }
   ],
   "source": [
    "copy((1,2,3))"
   ]
  },
  {
   "cell_type": "code",
   "execution_count": 222,
   "metadata": {},
   "outputs": [
    {
     "data": {
      "text/plain": [
       "True"
      ]
     },
     "execution_count": 222,
     "metadata": {},
     "output_type": "execute_result"
    }
   ],
   "source": [
    "{1,2} <= {1,2,3,4}"
   ]
  },
  {
   "cell_type": "code",
   "execution_count": 224,
   "metadata": {},
   "outputs": [
    {
     "data": {
      "text/plain": [
       "False"
      ]
     },
     "execution_count": 224,
     "metadata": {},
     "output_type": "execute_result"
    }
   ],
   "source": [
    "(1,3) < (1,2,3,4,5)"
   ]
  },
  {
   "cell_type": "code",
   "execution_count": 225,
   "metadata": {},
   "outputs": [
    {
     "ename": "TypeError",
     "evalue": "'<' not supported between instances of 'EgocentricSBM' and 'EgocentricSBM'",
     "output_type": "error",
     "traceback": [
      "\u001b[1;31m---------------------------------------------------------------------------\u001b[0m",
      "\u001b[1;31mTypeError\u001b[0m                                 Traceback (most recent call last)",
      "\u001b[1;32m<ipython-input-225-f669e253676d>\u001b[0m in \u001b[0;36m<module>\u001b[1;34m()\u001b[0m\n\u001b[1;32m----> 1\u001b[1;33m \u001b[0md1\u001b[0m\u001b[1;33m<\u001b[0m\u001b[0md2\u001b[0m\u001b[1;33m\u001b[0m\u001b[0m\n\u001b[0m",
      "\u001b[1;31mTypeError\u001b[0m: '<' not supported between instances of 'EgocentricSBM' and 'EgocentricSBM'"
     ]
    }
   ],
   "source": [
    "d1<d2"
   ]
  },
  {
   "cell_type": "code",
   "execution_count": 226,
   "metadata": {},
   "outputs": [
    {
     "ename": "TypeError",
     "evalue": "unhashable type: 'EgocentricSBM'",
     "output_type": "error",
     "traceback": [
      "\u001b[1;31m---------------------------------------------------------------------------\u001b[0m",
      "\u001b[1;31mTypeError\u001b[0m                                 Traceback (most recent call last)",
      "\u001b[1;32m<ipython-input-226-2cdc8eb8124f>\u001b[0m in \u001b[0;36m<module>\u001b[1;34m()\u001b[0m\n\u001b[1;32m----> 1\u001b[1;33m \u001b[0md1\u001b[0m \u001b[1;32min\u001b[0m \u001b[0md3\u001b[0m\u001b[1;33m\u001b[0m\u001b[0m\n\u001b[0m",
      "\u001b[1;32m<ipython-input-210-5022cfde2315>\u001b[0m in \u001b[0;36m__contains__\u001b[1;34m(self, key)\u001b[0m\n\u001b[0;32m    189\u001b[0m \u001b[1;33m\u001b[0m\u001b[0m\n\u001b[0;32m    190\u001b[0m     \u001b[1;32mdef\u001b[0m \u001b[0m__contains__\u001b[0m\u001b[1;33m(\u001b[0m\u001b[0mself\u001b[0m\u001b[1;33m,\u001b[0m \u001b[0mkey\u001b[0m\u001b[1;33m)\u001b[0m\u001b[1;33m:\u001b[0m\u001b[1;33m\u001b[0m\u001b[0m\n\u001b[1;32m--> 191\u001b[1;33m         \u001b[1;32mreturn\u001b[0m \u001b[0mkey\u001b[0m \u001b[1;32min\u001b[0m \u001b[0mself\u001b[0m\u001b[1;33m.\u001b[0m\u001b[0mdimsdict\u001b[0m\u001b[1;33m\u001b[0m\u001b[0m\n\u001b[0m\u001b[0;32m    192\u001b[0m \u001b[1;33m\u001b[0m\u001b[0m\n\u001b[0;32m    193\u001b[0m     \u001b[1;32mdef\u001b[0m \u001b[0m__iter__\u001b[0m\u001b[1;33m(\u001b[0m\u001b[0mself\u001b[0m\u001b[1;33m)\u001b[0m\u001b[1;33m:\u001b[0m\u001b[1;33m\u001b[0m\u001b[0m\n",
      "\u001b[1;31mTypeError\u001b[0m: unhashable type: 'EgocentricSBM'"
     ]
    }
   ],
   "source": [
    "d1 in d3"
   ]
  },
  {
   "cell_type": "code",
   "execution_count": 228,
   "metadata": {},
   "outputs": [
    {
     "name": "stdout",
     "output_type": "stream",
     "text": [
      "(1, 4)\n",
      "(2, 5)\n",
      "(3, 6)\n"
     ]
    },
    {
     "data": {
      "text/plain": [
       "[None, None, None]"
      ]
     },
     "execution_count": 228,
     "metadata": {},
     "output_type": "execute_result"
    }
   ],
   "source": [
    "[print(i) for i in zip([1,2,3],{4,5,6})]"
   ]
  },
  {
   "cell_type": "code",
   "execution_count": 229,
   "metadata": {},
   "outputs": [],
   "source": [
    "g=set()"
   ]
  },
  {
   "cell_type": "code",
   "execution_count": 232,
   "metadata": {},
   "outputs": [],
   "source": [
    "g.add(4)"
   ]
  },
  {
   "cell_type": "code",
   "execution_count": 233,
   "metadata": {},
   "outputs": [
    {
     "data": {
      "text/plain": [
       "{3, 4}"
      ]
     },
     "execution_count": 233,
     "metadata": {},
     "output_type": "execute_result"
    }
   ],
   "source": [
    "g"
   ]
  },
  {
   "cell_type": "code",
   "execution_count": 234,
   "metadata": {},
   "outputs": [],
   "source": [
    "g=[1,2,3]"
   ]
  },
  {
   "cell_type": "code",
   "execution_count": 235,
   "metadata": {},
   "outputs": [
    {
     "ename": "AttributeError",
     "evalue": "'list' object has no attribute 'top'",
     "output_type": "error",
     "traceback": [
      "\u001b[1;31m---------------------------------------------------------------------------\u001b[0m",
      "\u001b[1;31mAttributeError\u001b[0m                            Traceback (most recent call last)",
      "\u001b[1;32m<ipython-input-235-3efffea7d0b3>\u001b[0m in \u001b[0;36m<module>\u001b[1;34m()\u001b[0m\n\u001b[1;32m----> 1\u001b[1;33m \u001b[0mg\u001b[0m\u001b[1;33m.\u001b[0m\u001b[0mtop\u001b[0m\u001b[1;33m(\u001b[0m\u001b[1;33m)\u001b[0m\u001b[1;33m\u001b[0m\u001b[0m\n\u001b[0m",
      "\u001b[1;31mAttributeError\u001b[0m: 'list' object has no attribute 'top'"
     ]
    }
   ],
   "source": [
    "g.top()"
   ]
  },
  {
   "cell_type": "code",
   "execution_count": 258,
   "metadata": {},
   "outputs": [],
   "source": [
    "from copy import copy as cp"
   ]
  },
  {
   "cell_type": "code",
   "execution_count": 266,
   "metadata": {},
   "outputs": [],
   "source": [
    "d4 = cp(d1)"
   ]
  },
  {
   "cell_type": "code",
   "execution_count": 269,
   "metadata": {},
   "outputs": [
    {
     "name": "stdout",
     "output_type": "stream",
     "text": [
      "name:\tegocentric_sbm\n",
      "ndim:\t2\n",
      "shape:\t(2, 4)\n",
      "----\t------\n",
      "dims\tblocks\n",
      "----\t------\n",
      "0\t(0, 1)\n",
      "1\t(2, 3, 4, 5)\n",
      "----\t------\n",
      "pi:\t((0.8, 0.2), (0.4, 0.3, 0.2, 0.1))\n",
      "rho:\t((0.5, 0.5), (0.25, 0.25, 0.25, 0.25))\n",
      "omega:\t((5.0, 5.0), (5.0, 5.0, 5.0, 5.0))\n"
     ]
    }
   ],
   "source": [
    "print(d4)"
   ]
  },
  {
   "cell_type": "code",
   "execution_count": 268,
   "metadata": {},
   "outputs": [
    {
     "data": {
      "text/plain": [
       "{'index': 1,\n",
       " 'name': '1',\n",
       " 'blocks': (2, 3, 4, 5),\n",
       " 'pi': (0.4, 0.3, 0.2, 0.1),\n",
       " 'rho': (0.25, 0.25, 0.25, 0.25),\n",
       " 'omega': (5.0, 5.0, 5.0, 5.0)}"
      ]
     },
     "execution_count": 268,
     "metadata": {},
     "output_type": "execute_result"
    }
   ],
   "source": [
    "d1.pop()"
   ]
  },
  {
   "cell_type": "code",
   "execution_count": 270,
   "metadata": {},
   "outputs": [
    {
     "name": "stdout",
     "output_type": "stream",
     "text": [
      "name:\tegocentric_sbm\n",
      "ndim:\t1\n",
      "shape:\t(2,)\n",
      "----\t------\n",
      "dims\tblocks\n",
      "----\t------\n",
      "0\t(0, 1)\n",
      "----\t------\n",
      "pi:\t((0.8, 0.2),)\n",
      "rho:\t((0.5, 0.5),)\n",
      "omega:\t((5.0, 5.0),)\n"
     ]
    }
   ],
   "source": [
    "print(d1)"
   ]
  },
  {
   "cell_type": "code",
   "execution_count": 287,
   "metadata": {},
   "outputs": [],
   "source": [
    "f=(5,2,3)"
   ]
  },
  {
   "cell_type": "code",
   "execution_count": 290,
   "metadata": {},
   "outputs": [
    {
     "ename": "ValueError",
     "evalue": "too many values to unpack (expected 2)",
     "output_type": "error",
     "traceback": [
      "\u001b[1;31m---------------------------------------------------------------------------\u001b[0m",
      "\u001b[1;31mValueError\u001b[0m                                Traceback (most recent call last)",
      "\u001b[1;32m<ipython-input-290-52c78c194e22>\u001b[0m in \u001b[0;36m<module>\u001b[1;34m()\u001b[0m\n\u001b[1;32m----> 1\u001b[1;33m \u001b[0ma\u001b[0m\u001b[1;33m,\u001b[0m \u001b[0mb\u001b[0m \u001b[1;33m=\u001b[0m \u001b[0msorted\u001b[0m\u001b[1;33m(\u001b[0m\u001b[0mf\u001b[0m\u001b[1;33m,\u001b[0m \u001b[0mreverse\u001b[0m\u001b[1;33m=\u001b[0m\u001b[1;32mTrue\u001b[0m\u001b[1;33m)\u001b[0m\u001b[1;33m\u001b[0m\u001b[0m\n\u001b[0m",
      "\u001b[1;31mValueError\u001b[0m: too many values to unpack (expected 2)"
     ]
    }
   ],
   "source": [
    "a, b = sorted(f, reverse=True)"
   ]
  },
  {
   "cell_type": "code",
   "execution_count": 295,
   "metadata": {},
   "outputs": [
    {
     "data": {
      "text/plain": [
       "[(1, 3, 5), (1, 3, 6)]"
      ]
     },
     "execution_count": 295,
     "metadata": {},
     "output_type": "execute_result"
    }
   ],
   "source": [
    "sorted((zip((1,1),(3,3),(5,6))))"
   ]
  },
  {
   "cell_type": "code",
   "execution_count": 399,
   "metadata": {},
   "outputs": [],
   "source": [
    "gggg=chain((1,2,3),(3,4,6))"
   ]
  },
  {
   "cell_type": "code",
   "execution_count": 394,
   "metadata": {},
   "outputs": [],
   "source": [
    "from itertools import chain"
   ]
  },
  {
   "cell_type": "code",
   "execution_count": 398,
   "metadata": {},
   "outputs": [
    {
     "data": {
      "text/plain": [
       "(1, 2, 3, 3, 4, 6)"
      ]
     },
     "execution_count": 398,
     "metadata": {},
     "output_type": "execute_result"
    }
   ],
   "source": [
    "tuple(chain(*gggg))"
   ]
  },
  {
   "cell_type": "code",
   "execution_count": 400,
   "metadata": {},
   "outputs": [
    {
     "data": {
      "text/plain": [
       "(1, 2, 3, 3, 4, 6)"
      ]
     },
     "execution_count": 400,
     "metadata": {},
     "output_type": "execute_result"
    }
   ],
   "source": [
    "tuple(gggg)"
   ]
  },
  {
   "cell_type": "code",
   "execution_count": null,
   "metadata": {},
   "outputs": [],
   "source": []
  }
 ],
 "metadata": {
  "kernelspec": {
   "display_name": "Python 3",
   "language": "python",
   "name": "python3"
  },
  "language_info": {
   "codemirror_mode": {
    "name": "ipython",
    "version": 3
   },
   "file_extension": ".py",
   "mimetype": "text/x-python",
   "name": "python",
   "nbconvert_exporter": "python",
   "pygments_lexer": "ipython3",
   "version": "3.6.5"
  }
 },
 "nbformat": 4,
 "nbformat_minor": 2
}
