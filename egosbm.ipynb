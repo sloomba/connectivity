{
 "cells": [
  {
   "cell_type": "markdown",
   "metadata": {},
   "source": [
    "# Egecentric Stochastic Block Model\n",
    "\n",
    "This notebook summarizes the Python classes which help us deal with the parameters of an SBM of the type we have been defining, to be learnt from egocentric social surveys such as Understanding Society. \n",
    "\n",
    "## `EgocentricSBM` Class\n",
    "\n",
    "`EgocentricSBM` stores the SBM's parameters. It consists of $d$ dimensions, each of which have $k_i$ number of blocks or communities (that is, of shape $(k_1,k_2,\\dots k_d)$). Corresponding to every $j$th community in dimension $i$ we have the parameters\n",
    "\n",
    "1. $\\pi_{ij}$, which refers to the proportion of population belonging to $j$ (along $i$). \n",
    "2. $\\rho_{ij}$, which refers to the proportion of friends of people in community $j$ (along $i$) from within community $j$ (along $i$).\n",
    "3. $\\omega_{ij}$, which refers to the mean (out)degree of population belonging to $j$ (along $i$).\n",
    "\n",
    "Clearly, these parameters must respect the following constraints:\n",
    "\n",
    "1. $0<\\pi_{ij}<1$, $\\sum_j\\pi_{ij}=1$\n",
    "2. $0\\le\\rho_{ij}\\le1$\n",
    "3. $0\\le\\omega_{ij}$, $\\sum_j\\omega_{ij}\\pi_{ij}=\\omega$, where $\\omega$ is the mean (out)degree of the entire population\n",
    "\n",
    "A community $j$ is said to be homophilous if $\\pi_{ij}<\\rho_{ij}$, heterophilous if $\\pi_{ij}>\\rho_{ij}$ and ambiphilous if $\\pi_{ij}=\\rho_{ij}$.\n",
    "\n",
    "Under a \"directed\" SBM, the \"affinity\" from community $u$ to $v$ along dimension $i$ is given by $\\psi_{uu}^i = \\omega_{iu}\\frac{\\rho_{iu}}{\\pi_{iu}}$, $\\psi_{vv}^i = \\omega_{iu}\\frac{1-\\rho_{iu}}{1-\\pi_{iu}}$. Below, we write some key properties of the members of this SBM:\n",
    "\n",
    "1. The mean preference of a community to itself, the mean \"homophily\", along dimension $i$ is given by $\\sum_{j}\\frac{\\rho_{ij}}{\\pi_{ij}}\\pi_{ij}^2 = \\sum_{j}\\rho_{ij}\\pi_{ij}$.\n",
    "2. Similarly, the mean preference of a communnity to any other community, mean \"heterophily\" is given by $\\sum_{j}\\frac{1-\\rho_{ij}}{1-\\pi_{ij}}(1-\\pi_{ij})\\pi_{ij} = \\sum_{j}(1-\\rho_{ij})\\pi_{ij} = 1-\\sum_{j}\\rho_{ij}\\pi_{ij}$.\n",
    "3. The mean affinity of a community to itself, the mean \"homoffinity\", is given by $\\sum_{j}\\omega_{ij}\\rho_{ij}\\pi_{ij}$.\n",
    "4. The mean \"heteroffinity\" is given by $\\sum_{j}\\omega_{ij}(1-\\rho_{ij})\\pi_{ij} = \\omega - \\sum_{j}\\omega_{ij}\\rho_{ij}\\pi_{ij}$, where $\\omega$ refers to the mean (out)degree, which is the same across any dimenison $i$.\n",
    "\n",
    "Let's demonstrate these ideas below, by creating an `EgocentricSBM` of shape `(2,4)`."
   ]
  },
  {
   "cell_type": "code",
   "execution_count": 1,
   "metadata": {},
   "outputs": [],
   "source": [
    "from egosbm import EgocentricSBM"
   ]
  },
  {
   "cell_type": "code",
   "execution_count": 2,
   "metadata": {},
   "outputs": [
    {
     "name": "stdout",
     "output_type": "stream",
     "text": [
      "name:\tegocentric_sbm\n",
      "ndim:\t2\n",
      "shape:\t(2, 4)\n",
      "|dims|\t|blocks|\n",
      "0\t('0', '1')\n",
      "1\t('0', '1', '2', '3')\n",
      "pi:\t((0.5, 0.5), (0.25, 0.25, 0.25, 0.25))\n",
      "rho:\t((0.5, 0.5), (0.25, 0.25, 0.25, 0.25))\n",
      "omega:\t((1.0, 1.0), (1.0, 1.0, 1.0, 1.0))\n"
     ]
    }
   ],
   "source": [
    "ego_sbm = EgocentricSBM([2,4])\n",
    "print(ego_sbm)"
   ]
  },
  {
   "cell_type": "markdown",
   "metadata": {},
   "source": [
    "The SBM is initialized with the least-informative assumptions: equi-proportined population, ambiphily, and mean-degree of 1. We can use some class methods to initialize a more interesting SBM."
   ]
  },
  {
   "cell_type": "code",
   "execution_count": 3,
   "metadata": {},
   "outputs": [],
   "source": [
    "ego_sbm.set_pi()\n",
    "ego_sbm.set_omega(5)\n",
    "ego_sbm.set_rho()"
   ]
  },
  {
   "cell_type": "code",
   "execution_count": 4,
   "metadata": {},
   "outputs": [
    {
     "name": "stdout",
     "output_type": "stream",
     "text": [
      "name:\tegocentric_sbm\n",
      "ndim:\t2\n",
      "shape:\t(2, 4)\n",
      "|dims|\t|blocks|\n",
      "0\t('0', '1')\n",
      "1\t('0', '1', '2', '3')\n",
      "pi:\t((0.6919465773017894, 0.3080534226982105), (0.2003292566478986, 0.36827570566610723, 0.29187281312372537, 0.13952222456226884))\n",
      "rho:\t((0.30280939601589046, 0.4601433578482155), (0.4449803321951378, 0.8314477547463477, 0.34341526307917536, 0.28805410106089235))\n",
      "omega:\t((5.116386065247539, 4.738574761519359), (2.0619696998269044, 4.015366653010031, 4.900658072833957, 12.025297779949163))\n"
     ]
    }
   ],
   "source": [
    "print(ego_sbm)"
   ]
  },
  {
   "cell_type": "markdown",
   "metadata": {},
   "source": [
    "This SBM looks more realistic, and obeys a mean-degree of $5$. We can confirm that and other properties by using the following definitions and methods."
   ]
  },
  {
   "cell_type": "code",
   "execution_count": 5,
   "metadata": {},
   "outputs": [
    {
     "name": "stdout",
     "output_type": "stream",
     "text": [
      "mean degree [5.0, 5.0]\n",
      "mean homophily [0.3512766614650078, 0.5357681156541421]\n",
      "mean heterophily [0.6487233385349922, 0.46423188434585794]\n",
      "mean homoffinity [1.7437127408964992, 2.3878292334527798]\n",
      "mean heteroffinity [3.2562872591035017, 2.6121707665472202]\n"
     ]
    }
   ],
   "source": [
    "print('mean degree', ego_sbm.mean_omega())\n",
    "print('mean homophily', ego_sbm.mean_homophily())\n",
    "print('mean heterophily', ego_sbm.mean_heterophily())\n",
    "print('mean homoffinity', ego_sbm.mean_homoffinity())\n",
    "print('mean heteroffinity', ego_sbm.mean_heteroffinity())"
   ]
  },
  {
   "cell_type": "code",
   "execution_count": 6,
   "metadata": {},
   "outputs": [
    {
     "name": "stdout",
     "output_type": "stream",
     "text": [
      "((False, True), (True, True, True, True))\n"
     ]
    }
   ],
   "source": [
    "print(ego_sbm.ishomophilous())"
   ]
  },
  {
   "cell_type": "markdown",
   "metadata": {},
   "source": [
    "Clearly, not all communities are homophilous, which is quite unlikely for a social network. Let us enforce homophily by setting a random $\\rho$ such that $\\pi<\\rho<=1$."
   ]
  },
  {
   "cell_type": "code",
   "execution_count": 7,
   "metadata": {},
   "outputs": [
    {
     "name": "stdout",
     "output_type": "stream",
     "text": [
      "((True, True), (True, True, True, True))\n"
     ]
    }
   ],
   "source": [
    "ego_sbm.enforce_homophily()\n",
    "print(ego_sbm.ishomophilous())"
   ]
  },
  {
   "cell_type": "markdown",
   "metadata": {},
   "source": [
    "## `StochasticBlockModel` Class\n",
    "\n",
    "This class takes parameters from an `EgocentricSBM` and turns it into an appropriate SBM with full block matrix $\\Psi \\propto \\bigotimes_i\\Psi^i$. Recall that we have 3 model types:\n",
    "\n",
    "1. The \"Full\" (`full`) SBM Model uses block matrices $\\Psi^i$s which have different entires for different communities along a given dimension $i$, which means a model with $3*\\Pi_i^dk_i$ number of parameters. More precisely,\n",
    "    1. $\\Psi_{uu}^i = \\omega_{iu}\\frac{\\rho_{iu}}{\\pi_{iu}}$\n",
    "    2. $\\Psi_{uv}^i = \\omega_{iu}\\frac{1-\\rho_{iu}}{1-\\pi_{iu}}$\n",
    "    3. $\\Psi = \\frac{1}{\\omega^{d-1}}\\bigotimes_i\\Psi^i$\n",
    "2. The \"Planted partition\" (`pp`) SBM Model uses block matrices $\\Psi^i$s which have same entries for different communities along a given dimension $i$, which means a model with $1+2d$ number of parameters. More precisely, we can use the model's mean properties such that the mean affinity of the model is preserved.\n",
    "    1. $\\Psi_{uu}^i = \\omega\\frac{\\sum_u\\rho_{iu}\\pi_{iu}}{\\sum_u\\pi_{iu}^2}$\n",
    "    2. $\\Psi_{uv}^i = \\omega\\frac{1-\\sum_u\\rho_{iu}\\pi_{iu}}{1-\\sum_u\\pi_{iu}^2}$\n",
    "    3. $\\Psi = \\frac{1}{\\omega^{d-1}}\\bigotimes_i\\Psi^i$\n",
    "3. While the `pp` model preserves mean affinity, it doesn't preserve the mean homoffinity and mean heteroffinity separately. This is because we essentially have two degrees of freedom, one of which goes in keeping the mean degree \"separate\" from the homophily parameter. We can overcome this problem by marginalizing over $\\omega_{iu}$, which means we absorb it, but this let's us preserve both mean homoffinity and mean heteroffinity of the network along that dimension $i$. We call this the \"Planted partition collapsed\" (`ppcollapsed`) SBM Model, which leads to a model with $2d$ number of parameters. More precisely,\n",
    "    1. $\\Psi_{uu}^i = \\frac{\\sum_u\\omega_{iu}\\rho_{iu}\\pi_{iu}}{\\sum_u\\pi_{iu}^2}$\n",
    "    2. $\\Psi_{uv}^i = \\frac{\\omega-\\sum_u\\omega_{iu}\\rho_{iu}\\pi_{iu}}{1-\\sum_u\\pi_{iu}^2}$\n",
    "    3. $\\Psi = \\frac{1}{\\omega^{d-1}}\\bigotimes_i\\Psi^i$\n",
    "    \n",
    "### Notes\n",
    "\n",
    "1. If every community along a dimension $i$ has the same mean degree, then `pp`==`ppcollapsed`.\n",
    "2. If every community along a dimension $i$ has the same level of homophily or heterophily ($\\rho_{ij}/\\pi_{ij}$) as well, then `full`==`pp`==`ppcollapsed`.\n",
    "3. The planted partition models have a symmetric block matrix, while the full model can be chosen to be directed or undirected, which renders the concept of in/out-(hetero)affinities."
   ]
  },
  {
   "cell_type": "code",
   "execution_count": 8,
   "metadata": {},
   "outputs": [],
   "source": [
    "model_full = ego_sbm.get_model('full')\n",
    "model_pp = ego_sbm.get_model('pp')\n",
    "model_ppc = ego_sbm.get_model('ppcollapsed')"
   ]
  },
  {
   "cell_type": "code",
   "execution_count": 9,
   "metadata": {},
   "outputs": [
    {
     "name": "stdout",
     "output_type": "stream",
     "text": [
      "full\n",
      " (((5.116386065247539, 1.2221329616631744, 0.5010471197415589), (4.738574761519359, 3.18670618205161, 0.02648217953025991)), ((2.0619696998269044, 1.7234224802280058, 0.8187720522336968), (4.015366653010031, 1.5896270390792944, 0.6562656908332005), (4.900658072833957, 2.108053490759078, 0.5432872859096668), (12.025297779949163, 4.778954824965725, 0.38726112544705493)))\n",
      "planted partition\n",
      " (5.0, ((1.5471044843954591, 0.26376464963590956), (1.9876762246394497, 0.6151125663803649)))\n",
      "planted partition collapsed\n",
      " ((7.716427522352061, 1.3445191445151197), (10.723748289433185, 2.769513191826687))\n"
     ]
    }
   ],
   "source": [
    "print('full\\n', model_full.params)\n",
    "print('planted partition\\n', model_pp.params)\n",
    "print('planted partition collapsed\\n', model_ppc.params)"
   ]
  },
  {
   "cell_type": "code",
   "execution_count": 10,
   "metadata": {},
   "outputs": [
    {
     "name": "stdout",
     "output_type": "stream",
     "text": [
      "homoffinity [0.61603124 2.03412598 2.60923983 6.93835446 0.66231441 2.18695232\n",
      " 2.80527516 7.4596414 ]\n",
      "out heteroffinity [1.49393537 2.07470722 2.40549191 5.36685874 1.2918451  1.6184707\n",
      " 1.83915177 3.93691311]\n",
      "in heteroffinity [2.09851262 1.55918791 1.73314204 1.88301097 3.33337879 3.10225301\n",
      " 3.58652639 5.52503359]\n",
      "heteroffinity [1.79622399 1.81694757 2.06931697 3.62493486 2.31261194 2.36036185\n",
      " 2.71283908 4.73097335]\n",
      "affinity [ 2.41225524  3.85107354  4.6785568  10.56328931  2.97492636  4.54731417\n",
      "  5.51811424 12.19061476]\n",
      "mean homoffinity 2.6623743221572806\n",
      "mean heteroffinity 2.3376256778427202\n",
      "mean affinity 5.0\n"
     ]
    },
    {
     "name": "stderr",
     "output_type": "stream",
     "text": [
      "C:\\Users\\lenovo\\Desktop\\phd\\dat\\egosbm.py:606: RuntimeWarning: symmetrising the stochastic block matrix\n",
      "  warn('symmetrising the stochastic block matrix', RuntimeWarning)\n"
     ]
    }
   ],
   "source": [
    "print('homoffinity', model_full.homoffinity())\n",
    "print('out heteroffinity', model_full.heteroffinity_out())\n",
    "print('in heteroffinity', model_full.heteroffinity_in())\n",
    "print('heteroffinity', model_full.heteroffinity(directed=False))\n",
    "print('affinity', model_full.affinity(directed=False))\n",
    "print('mean homoffinity', model_full.mean_homoffinity())\n",
    "print('mean heteroffinity', model_full.mean_heteroffinity())\n",
    "print('mean affinity', model_full.mean_affinity())"
   ]
  },
  {
   "cell_type": "code",
   "execution_count": 11,
   "metadata": {},
   "outputs": [
    {
     "name": "stdout",
     "output_type": "stream",
     "text": [
      "homoffinity [2.13133755 3.91814883 3.10528526 1.48440104 0.9488678  1.7443531\n",
      " 1.38246764 0.66085278]\n",
      "heteroffinity [2.99447145 2.53517095 2.74411783 3.16076672 1.98439005 1.94857632\n",
      " 1.96486885 1.99735684]\n",
      "affinity [5.12580901 6.45331978 5.84940309 4.64516776 2.93325785 3.69292942\n",
      " 3.34733649 2.65820962]\n",
      "mean homoffinity 2.4734977501710977\n",
      "mean heteroffinity 2.526502249828902\n",
      "mean affinity 4.999999999999999\n"
     ]
    }
   ],
   "source": [
    "print('homoffinity', model_pp.homoffinity())\n",
    "print('heteroffinity', model_pp.heteroffinity())\n",
    "print('affinity', model_pp.affinity())\n",
    "print('mean homoffinity', model_pp.mean_homoffinity())\n",
    "print('mean heteroffinity', model_pp.mean_heteroffinity())\n",
    "print('mean affinity', model_pp.mean_affinity())"
   ]
  },
  {
   "cell_type": "code",
   "execution_count": 12,
   "metadata": {},
   "outputs": [
    {
     "name": "stdout",
     "output_type": "stream",
     "text": [
      "homoffinity [2.29408673 4.21733912 3.3424052  1.59775007 1.02132346 1.8775521\n",
      " 1.48803303 0.71131558]\n",
      "heteroffinity [2.72642775 2.34038937 2.51600754 2.86619759 1.86470642 1.8921413\n",
      " 1.87966051 1.85477329]\n",
      "affinity [5.02051449 6.55772849 5.85841274 4.46394767 2.88602987 3.7696934\n",
      " 3.36769354 2.56608887]\n",
      "mean homoffinity 2.66237432215728\n",
      "mean heteroffinity 2.3376256778427194\n",
      "mean affinity 5.0\n"
     ]
    }
   ],
   "source": [
    "print('homoffinity', model_ppc.homoffinity())\n",
    "print('heteroffinity', model_ppc.heteroffinity())\n",
    "print('affinity', model_ppc.affinity())\n",
    "print('mean homoffinity', model_ppc.mean_homoffinity())\n",
    "print('mean heteroffinity', model_ppc.mean_heteroffinity())\n",
    "print('mean affinity', model_ppc.mean_affinity())"
   ]
  },
  {
   "cell_type": "markdown",
   "metadata": {},
   "source": [
    "### Eigenvalues\n",
    "\n",
    "We noted earlier that the eigenvalues of the expected adjacency matrix generated from the SBM would be the same as the eigenvalues of $\\Pi\\Psi$, where $\\Pi$ is a diagonal matrix representing distribution of people in the \"testing\" population. In particular, if this distribution is uniform, and if the models we consider are the planted partition model, then these eigenvalues can be written in closed form. To see that in practice, let us find the eigenvalues of $\\Pi\\Psi$ computationally, and theoretically. First for the default testing=training population distribution, and then for an assumed uniform testing distribution."
   ]
  },
  {
   "cell_type": "code",
   "execution_count": 13,
   "metadata": {},
   "outputs": [
    {
     "name": "stdout",
     "output_type": "stream",
     "text": [
      "pp\n",
      " [5.579133976853608, 2.4479707343183783, 2.3070252478063797, 1.7006835515572682, 1.1498983234249547, 1.0122593064432155, 0.7032489107179205, 0.47549395220791657]\n",
      "ppc\n",
      " [5.6186374431450865, 2.8212818090140863, 2.315919906052594, 1.9547521038582532, 1.3246157546987827, 1.162890962123092, 0.8057201331341767, 0.5459871766455583]\n"
     ]
    }
   ],
   "source": [
    "print('pp\\n', model_pp.eigvals_pipsi())\n",
    "print('ppc\\n', model_ppc.eigvals_pipsi())"
   ]
  },
  {
   "cell_type": "code",
   "execution_count": 98,
   "metadata": {},
   "outputs": [
    {
     "name": "stdout",
     "output_type": "stream",
     "text": [
      "pp uni computational\n",
      " [4.338179128054155, 3.0744121597347345, 1.553458227021598, 1.5534582270215975, 1.5534582270215966, 1.1009160114919856, 1.1009160114919851, 1.100916011491985] \n",
      "pp uni theoretical\n",
      " [4.338179128054159, 3.074412159734736, 1.5534582270215977, 1.5534582270215977, 1.5534582270215977, 1.1009160114919854, 1.1009160114919854, 1.1009160114919854]\n",
      "ppc uni computational\n",
      " [4.311263632311059, 3.031799862396125, 1.8018224998783894, 1.8018224998783892, 1.801822499878388, 1.2670914314430872, 1.2670914314430868, 1.2670914314430866] \n",
      "ppc uni theoretical\n",
      " [4.311263632311059, 3.031799862396127, 1.8018224998783887, 1.8018224998783887, 1.8018224998783887, 1.2670914314430872, 1.2670914314430872, 1.2670914314430872]\n"
     ]
    }
   ],
   "source": [
    "print('pp uni computational\\n', model_pp.eigvals_pipsi('uni'), '\\npp uni theoretical\\n', model_pp.eigvals_pipsi_theoretical())\n",
    "print('ppc uni computational\\n', model_ppc.eigvals_pipsi('uni'), '\\nppc uni theoretical\\n', model_ppc.eigvals_pipsi_theoretical())"
   ]
  },
  {
   "cell_type": "markdown",
   "metadata": {},
   "source": [
    "### Social Access Statistic\n",
    "\n",
    "There are multiple ways to adjudge people's social access or [isolation](https://link.springer.com/article/10.1007/s10964-018-0860-3). We enlist come built-ins here:\n",
    "\n",
    "1. \"Disengagement\", which is a measure of out-degree, can be measured by using total \"out-affinity\" of a community.\n",
    "2. \"Unliked\", which is a measure of in-degree, can be measured by using total \"in-affinity\" of a community.\n",
    "3. \"Outside orientation\", which is a measure of out-of-community engagement, can be measured using either the difference of heterophily and homophily, or log-ratio of heterophily and homophily.\n",
    "\n",
    "More precisely, we elaborate on the latter of the third one, which is closest to the social isolation statistic defined by Till. Say $\\Psi$ represents the full matrix where we can choose to take the negative-log-ratio of off-diagonal elements with the diagonals, which gives us the matrix $\\mathcal{L}$. Let $\\boldsymbol{\\pi}$ represent the column-vector of community probabilities (i.e. $\\boldsymbol{\\pi} = \\mathrm{diag}(\\Pi)$.\n",
    "\n",
    "1. The pairwise affinity between two individuals of communities $u$ and $v$ is given by $\\mathcal{L}_{uv}$. This is calculated by `sas_individual_pw()`.\n",
    "2. The overall out/in-affinity experienced by an individual of community $j$ is given by $[\\mathcal{L}\\boldsymbol{\\pi}]_j$. This is calculated by `sas_individual_out()`, `sas_individual_in()` and `sas_individual()`.\n",
    "3. The global affinity of a society is a given by $\\boldsymbol{\\pi}^T\\mathcal{L}\\boldsymbol{\\pi}$. This is calculated by `sas_global()`.\n",
    "\n",
    "The lower the SAS, the lower the isolation/higher the social access.\n",
    "\n",
    "#### Note\n",
    "1. Even thought the SBM is defined assuming independent Blau dimensions, the testing population need not assume a testing distribution that factorizes. That is, a testing population of 50/50 males/females and 50/50 employed/unemployed will be treated differently from 50/50 employed-males/unemployed-females.\n",
    "2. While the SAS we obtain need not be a metric, we can use built-ins to define a metric from this statistic, if we need to.\n",
    "    1. SAS will respect positivity for a homophilous society.\n",
    "    2. We can choose to set identicals as indiscernible.\n",
    "    3. We can enforce symmetry by symmetrising the block matrix (this matters only if a full SBM is used).\n",
    "    4. We use shortest-path graph algorithm to make the SAS follow the triangle inequality.\n",
    "3. For planted partition models, we can express the $\\Psi^i/\\mathcal{L}^i$ matrix with diagonal entries $p$ and off-diagonal entries $q$.\n",
    "    1. We can write the mean affinity experienced by individuals simply as: $p\\sum_j\\pi_{ij}+q\\left(\\sum_j1-\\pi_{ij}\\right) = p+q(k_i-1)$.\n",
    "    2. We can write the mean affinity experienced by communities simply as: $p\\sum_j\\pi_{ij}^2+q\\sum_j(1-\\pi_{ij})\\pi_{ij} = p\\delta+q(1-\\delta)$, where $\\delta=\\sum_j\\pi_{ij}^2$ is the deviation in $\\pi$. Now $\\delta$ is minimized for a uniform distribution ($1/k_i$), and maximized if there is any one big majority community ($\\approx 1$). It can be seen as imposing a linear combination between $p$ and $q$."
   ]
  },
  {
   "cell_type": "code",
   "execution_count": 15,
   "metadata": {},
   "outputs": [
    {
     "name": "stdout",
     "output_type": "stream",
     "text": [
      "sas indivl pw\n",
      " [[-0.          1.07374264  1.07374264  1.07374264  1.28638306  2.36012571\n",
      "   2.36012571  2.36012571]\n",
      " [ 1.2763364  -0.          1.2763364   1.2763364   2.56271946  1.28638306\n",
      "   2.56271946  2.56271946]\n",
      " [ 1.95612428  1.95612428 -0.          1.95612428  3.24250735  3.24250735\n",
      "   1.28638306  3.24250735]\n",
      " [ 3.62531654  3.62531654  3.62531654 -0.          4.9116996   4.9116996\n",
      "   4.9116996   1.28638306]\n",
      " [ 6.91090033  7.98464298  7.98464298  7.98464298 -0.          1.07374264\n",
      "   1.07374264  1.07374264]\n",
      " [ 8.18723673  6.91090033  8.18723673  8.18723673  1.2763364  -0.\n",
      "   1.2763364   1.2763364 ]\n",
      " [ 8.86702462  8.86702462  6.91090033  8.86702462  1.95612428  1.95612428\n",
      "  -0.          1.95612428]\n",
      " [10.53621687 10.53621687 10.53621687  6.91090033  3.62531654  3.62531654\n",
      "   3.62531654 -0.        ]]\n",
      "sas indivl out\n",
      " [1.25491528 1.20256742 1.78145949 3.51577902 5.64061441 5.58826654\n",
      " 6.16715862 7.90147814]\n",
      "sas indivl in\n",
      " [3.67572192 3.42078029 3.31988448 3.38501175 2.43690377 2.18196215\n",
      " 2.08106634 2.14619361]\n",
      "global sas 3.055791139657384\n"
     ]
    }
   ],
   "source": [
    "print('sas indivl pw\\n', model_full.sas_individual_pw())\n",
    "print('sas indivl out\\n', model_full.sas_individual_out())\n",
    "print('sas indivl in\\n', model_full.sas_individual_in())\n",
    "print('global sas', model_full.sas_global())"
   ]
  },
  {
   "cell_type": "code",
   "execution_count": 16,
   "metadata": {},
   "outputs": [
    {
     "name": "stdout",
     "output_type": "stream",
     "text": [
      "sas indivl pw\n",
      " [[0.         1.17503952 1.51493346 2.34952959 4.0986417  5.27368122\n",
      "  5.61357516 6.44817129]\n",
      " [1.17503952 0.         1.61623034 2.45082647 5.27368122 4.0986417\n",
      "  5.71487204 6.54946817]\n",
      " [1.51493346 1.61623034 0.         2.79072041 5.61357516 5.71487204\n",
      "  4.0986417  6.88936211]\n",
      " [2.34952959 2.45082647 2.79072041 0.         6.44817129 6.54946817\n",
      "  6.88936211 4.0986417 ]\n",
      " [4.0986417  5.27368122 5.61357516 6.44817129 0.         1.17503952\n",
      "  1.51493346 2.34952959]\n",
      " [5.27368122 4.0986417  5.71487204 6.54946817 1.17503952 0.\n",
      "  1.61623034 2.45082647]\n",
      " [5.61357516 5.71487204 4.0986417  6.88936211 1.51493346 1.61623034\n",
      "  0.         2.79072041]\n",
      " [6.44817129 6.54946817 6.88936211 4.0986417  2.34952959 2.45082647\n",
      "  2.79072041 0.        ]]\n",
      "sas indivl out\n",
      " [2.4653186  2.31167386 2.55067199 3.45039538 4.03875909 3.88511435\n",
      " 4.12411248 5.02383588]\n",
      "sas indivl in\n",
      " [2.4653186  2.31167386 2.55067199 3.45039538 4.03875909 3.88511435\n",
      " 4.12411248 5.02383588]\n",
      "global sas 3.0557911396573836\n"
     ]
    }
   ],
   "source": [
    "print('sas indivl pw\\n', model_full.sas_individual_pw(metric_type='metric'))\n",
    "print('sas indivl out\\n', model_full.sas_individual_out(metric_type='metric'))\n",
    "print('sas indivl in\\n', model_full.sas_individual_in(metric_type='metric'))\n",
    "print('global sas', model_full.sas_global(metric_type='metric'))"
   ]
  },
  {
   "cell_type": "code",
   "execution_count": 102,
   "metadata": {},
   "outputs": [
    {
     "name": "stdout",
     "output_type": "stream",
     "text": [
      "training pi [0.13861714 0.25482711 0.20196039 0.09654193 0.06171211 0.11344859\n",
      " 0.08991242 0.0429803 ]\n",
      "indivl sas full trn-pi [1.25491528 1.20256742 1.78145949 3.51577902 5.64061441 5.58826654\n",
      " 6.16715862 7.90147814]\n",
      "indivl sas full uni-pi [1.44849851 1.60044383 2.11028474 3.36217893 4.26075715 4.41270247\n",
      " 4.92254338 6.17443757]\n",
      "indivl sas pp trn-pi [2.13939976 1.85520743 1.98449338 2.24229501 3.1191901  2.83499777\n",
      " 2.96428372 3.22208536]\n",
      "indivl sas pp uni-pi [2.54524407 2.54524407 2.54524407 2.54524407 2.54524407 2.54524407\n",
      " 2.54524407 2.54524407]\n",
      "indivl sas ppc trn-pi [2.33839513 2.01037809 2.15960096 2.45715765 3.30612942 2.97811238\n",
      " 3.12733524 3.42489193]\n",
      "indivl sas ppc uni-pi [2.7252501 2.7252501 2.7252501 2.7252501 2.7252501 2.7252501 2.7252501\n",
      " 2.7252501]\n"
     ]
    }
   ],
   "source": [
    "print('training pi', model_full.get_pi())\n",
    "print('indivl sas full trn-pi', model_full.sas_individual_out())\n",
    "print('indivl sas full uni-pi', model_full.sas_individual_out(pi='uni'))\n",
    "print('indivl sas pp trn-pi', model_pp.sas_individual())\n",
    "print('indivl sas pp uni-pi', model_pp.sas_individual(pi='uni'))\n",
    "print('indivl sas ppc trn-pi', model_ppc.sas_individual())\n",
    "print('indivl sas ppc uni-pi', model_ppc.sas_individual(pi='uni'))"
   ]
  },
  {
   "cell_type": "code",
   "execution_count": 99,
   "metadata": {},
   "outputs": [
    {
     "name": "stdout",
     "output_type": "stream",
     "text": [
      "global sas full trn-pi 3.055791139657384\n",
      "global sas full uni-pi 3.536480824069606\n",
      "global sas pp trn-pi 2.305709609191399\n",
      "global sas pp uni-pi 2.5452440659513123\n",
      "global sas ppc trn-pi 2.4800931346277664\n",
      "global sas ppc uni-pi 2.725250099077716\n"
     ]
    }
   ],
   "source": [
    "print('global sas full trn-pi', model_full.sas_global())\n",
    "print('global sas full uni-pi', model_full.sas_global(pi='uni'))\n",
    "print('global sas pp trn-pi', model_pp.sas_global())\n",
    "print('global sas pp uni-pi', model_pp.sas_global(pi='uni'))\n",
    "print('global sas ppc trn-pi', model_ppc.sas_global())\n",
    "print('global sas ppc uni-pi', model_ppc.sas_global(pi='uni'))"
   ]
  },
  {
   "cell_type": "markdown",
   "metadata": {},
   "source": [
    "It's easy to see that although a uniform population increases global isolation, it decreases isolation of minorities. Thus, if we would like to be mindful of the isolation of individuals, irrespective of whether they are in a majority or minority class, we should analyse things at the level of individuals. If we would like to minimize overall isolation or access (which would naturally cater more to a majority), we should look at the global SAS."
   ]
  },
  {
   "cell_type": "markdown",
   "metadata": {},
   "source": [
    "## `NetworkData` Class\n",
    "\n",
    "Once we have an SBM model, we can probabilistically generate data from it. The `NetworkData` class allows us to do that. Say we want to obtain a network of $n$ people, then we can generate their community memberships $Z\\in\\{0,1\\}^{n\\times \\Pi k_i}$ according to $\\mathrm{Categorical}(\\pi)$ (which can be the same as the training population, by default), and edges between them according to $\\mathrm{Binomial}\\left(\\frac{1}{n-1}Z\\Psi Z^T\\right)$"
   ]
  },
  {
   "cell_type": "code",
   "execution_count": 81,
   "metadata": {},
   "outputs": [
    {
     "name": "stderr",
     "output_type": "stream",
     "text": [
      "C:\\Users\\lenovo\\Desktop\\phd\\dat\\egosbm.py:629: RuntimeWarning: generating an undirected network from a directed SBM\n",
      "  warn('generating an undirected network from a directed SBM', RuntimeWarning)\n"
     ]
    }
   ],
   "source": [
    "data_full = model_full.generate_data(n=1000)\n",
    "data_full_uni = model_full.generate_data(n=1000, pi='uni')\n",
    "data_ppc = model_ppc.generate_data(n=1000)\n",
    "data_ppc_uni = model_ppc.generate_data(n=1000, pi='uni')"
   ]
  },
  {
   "cell_type": "code",
   "execution_count": 82,
   "metadata": {},
   "outputs": [
    {
     "name": "stdout",
     "output_type": "stream",
     "text": [
      "mean degree full trn 4.584\n",
      "mean degree full uni 8.126\n"
     ]
    }
   ],
   "source": [
    "print('mean degree full trn', data_full.mean_degree())\n",
    "print('mean degree full uni', data_full_uni.mean_degree())"
   ]
  },
  {
   "cell_type": "markdown",
   "metadata": {},
   "source": [
    "Clearly, the mean degree of the network is close to $5$, which was the mean omega value we set in the model. Of course, the mean degree changes when the testing population is enforced to be uniform. This can be seen if we find mean affinity with a uniform distribution, which should coincide with mean degree of `data_full_uni`."
   ]
  },
  {
   "cell_type": "code",
   "execution_count": 83,
   "metadata": {},
   "outputs": [
    {
     "name": "stdout",
     "output_type": "stream",
     "text": [
      "mean affinity full trn 5.0\n",
      "mean affinity full uni 8.464743445458776\n"
     ]
    }
   ],
   "source": [
    "print('mean affinity full trn', model_full.mean_affinity())\n",
    "print('mean affinity full uni', model_full.mean_affinity(pi='uni'))"
   ]
  },
  {
   "cell_type": "markdown",
   "metadata": {},
   "source": [
    "Let us sort the data generated by community ID, and then visualize the adjacency matrix."
   ]
  },
  {
   "cell_type": "code",
   "execution_count": 85,
   "metadata": {},
   "outputs": [],
   "source": [
    "data_full.sort()\n",
    "data_full_uni.sort()\n",
    "data_ppc.sort()\n",
    "data_ppc_uni.sort()"
   ]
  },
  {
   "cell_type": "code",
   "execution_count": 84,
   "metadata": {},
   "outputs": [],
   "source": [
    "import seaborn as sns\n",
    "import matplotlib.pyplot as plt"
   ]
  },
  {
   "cell_type": "code",
   "execution_count": 86,
   "metadata": {},
   "outputs": [
    {
     "data": {
      "image/png": "[encoded data removed]",
      "text/plain": [
       "<Figure size 432x288 with 2 Axes>"
      ]
     },
     "metadata": {},
     "output_type": "display_data"
    }
   ],
   "source": [
    "plot = sns.heatmap(data_full.adj, square=True)"
   ]
  },
  {
   "cell_type": "markdown",
   "metadata": {},
   "source": [
    "The block-structure of the communities is quite apparent. In fact, we can note the fractal block-structure, due to the Kronecker structure of the SBM model. Especially when the population is made to follow a uniform distribution."
   ]
  },
  {
   "cell_type": "code",
   "execution_count": 87,
   "metadata": {},
   "outputs": [
    {
     "data": {
      "image/png": "[encoded data removed]",
      "text/plain": [
       "<Figure size 432x288 with 2 Axes>"
      ]
     },
     "metadata": {},
     "output_type": "display_data"
    }
   ],
   "source": [
    "plot = sns.heatmap(data_full_uni.adj, square=True)"
   ]
  },
  {
   "cell_type": "markdown",
   "metadata": {},
   "source": [
    "For the planted partition model, we do see a block structure, but it's not as rich as the full model."
   ]
  },
  {
   "cell_type": "code",
   "execution_count": 88,
   "metadata": {},
   "outputs": [
    {
     "data": {
      "image/png": "[encoded data removed]",
      "text/plain": [
       "<Figure size 432x288 with 2 Axes>"
      ]
     },
     "metadata": {},
     "output_type": "display_data"
    }
   ],
   "source": [
    "plot = sns.heatmap(data_ppc.adj, square=True)"
   ]
  },
  {
   "cell_type": "code",
   "execution_count": 89,
   "metadata": {},
   "outputs": [
    {
     "data": {
      "image/png": "[encoded data removed]",
      "text/plain": [
       "<Figure size 432x288 with 2 Axes>"
      ]
     },
     "metadata": {},
     "output_type": "display_data"
    }
   ],
   "source": [
    "plot = sns.heatmap(data_ppc_uni.adj, square=True)"
   ]
  },
  {
   "cell_type": "markdown",
   "metadata": {},
   "source": [
    "### Eigenvalues\n",
    "\n",
    "We can easily compute the eigenvalues of the adjacency matrix. Since we have generated an undirected graph, it will have real eigenvalues. We would like to test how close the eigenspectrum of adjacency matrix is to the eigenspectrum of the expected adjacency matrix (= eigenspectrum of $\\Pi\\Psi$)."
   ]
  },
  {
   "cell_type": "code",
   "execution_count": 94,
   "metadata": {},
   "outputs": [
    {
     "name": "stderr",
     "output_type": "stream",
     "text": [
      "C:\\Users\\lenovo\\Anaconda3\\lib\\site-packages\\scipy\\stats\\stats.py:1713: FutureWarning: Using a non-tuple sequence for multidimensional indexing is deprecated; use `arr[tuple(seq)]` instead of `arr[seq]`. In the future this will be interpreted as an array index, `arr[np.array(seq)]`, which will result either in an error or a different result.\n",
      "  return np.add.reduce(sorted[indexer] * weights, axis=axis) / sumval\n"
     ]
    },
    {
     "name": "stdout",
     "output_type": "stream",
     "text": [
      "eigs pipsi full\n",
      " [7.974115477736083, 6.949546443383651, 3.3754254670111066, 2.9417276580290386, 1.6941435734597903, 1.4764683905557592, 0.48116562318788203, 0.4193421646124936]\n",
      "eigs adj top-10 [9.059336398205724, 6.927339587427406, 5.717262396465161, 5.256082382726751, 5.189762109192868, 5.027200977341099, 4.915350046836964, 4.844982350395266, 4.746871126286123, 4.709717846640803]\n"
     ]
    },
    {
     "data": {
      "image/png": "[encoded data removed]",
      "text/plain": [
       "<Figure size 432x288 with 1 Axes>"
      ]
     },
     "metadata": {},
     "output_type": "display_data"
    }
   ],
   "source": [
    "adje = data_full.eigvals()\n",
    "plot = sns.distplot(adje)\n",
    "eigs = model_full.eigvals_pipsi()\n",
    "[plt.gca().axvline(i, ls='--') for i in eigs]\n",
    "print('eigs pipsi full\\n', eigs)\n",
    "print('eigs adj top-10\\n', adje[:10])"
   ]
  },
  {
   "cell_type": "code",
   "execution_count": 95,
   "metadata": {},
   "outputs": [
    {
     "name": "stderr",
     "output_type": "stream",
     "text": [
      "C:\\Users\\lenovo\\Anaconda3\\lib\\site-packages\\scipy\\stats\\stats.py:1713: FutureWarning: Using a non-tuple sequence for multidimensional indexing is deprecated; use `arr[tuple(seq)]` instead of `arr[seq]`. In the future this will be interpreted as an array index, `arr[np.array(seq)]`, which will result either in an error or a different result.\n",
      "  return np.add.reduce(sorted[indexer] * weights, axis=axis) / sumval\n"
     ]
    },
    {
     "name": "stdout",
     "output_type": "stream",
     "text": [
      "eigs pipsi full uni\n",
      " [22.012913086127924, 9.040801552518083, 4.515694823001261, 1.998371375020705, 1.8546159977442902, 0.8895184279109707, 0.820740033775004, 0.3653291844012588]\n",
      "eigs adj top-10\n",
      " [22.200245502786345, 10.070787464806576, 8.325784307080282, 8.046957514902202, 7.824046456234791, 7.715417895418247, 7.584924003048472, 7.403544483498261, 7.349618836904194, 7.293704363605583]\n"
     ]
    },
    {
     "data": {
      "image/png": "[encoded data removed]",
      "text/plain": [
       "<Figure size 432x288 with 1 Axes>"
      ]
     },
     "metadata": {},
     "output_type": "display_data"
    }
   ],
   "source": [
    "adje = data_full_uni.eigvals()\n",
    "plot = sns.distplot(adje)\n",
    "eigs = model_full.eigvals_pipsi(pi='uni')\n",
    "[plt.gca().axvline(i, ls='--') for i in eigs]\n",
    "print('eigs pipsi full uni\\n', eigs)\n",
    "print('eigs adj top-10\\n', adje[:10])"
   ]
  },
  {
   "cell_type": "code",
   "execution_count": 96,
   "metadata": {},
   "outputs": [
    {
     "name": "stderr",
     "output_type": "stream",
     "text": [
      "C:\\Users\\lenovo\\Anaconda3\\lib\\site-packages\\scipy\\stats\\stats.py:1713: FutureWarning: Using a non-tuple sequence for multidimensional indexing is deprecated; use `arr[tuple(seq)]` instead of `arr[seq]`. In the future this will be interpreted as an array index, `arr[np.array(seq)]`, which will result either in an error or a different result.\n",
      "  return np.add.reduce(sorted[indexer] * weights, axis=axis) / sumval\n"
     ]
    },
    {
     "name": "stdout",
     "output_type": "stream",
     "text": [
      "eigs pipsi ppc\n",
      " [5.6186374431450865, 2.8212818090140863, 2.315919906052594, 1.9547521038582532, 1.3246157546987827, 1.162890962123092, 0.8057201331341767, 0.5459871766455583]\n",
      "eigs adj top-10\n",
      " [6.589619716606132, 4.985336686745687, 4.894831189596206, 4.856890103165404, 4.802088572660106, 4.763487541451036, 4.71260646960192, 4.668032414135106, 4.644298970013113, 4.5779292266246525]\n"
     ]
    },
    {
     "data": {
      "image/png": "[encoded data removed]",
      "text/plain": [
       "<Figure size 432x288 with 1 Axes>"
      ]
     },
     "metadata": {},
     "output_type": "display_data"
    }
   ],
   "source": [
    "adje = data_ppc.eigvals()\n",
    "plot = sns.distplot(adje)\n",
    "eigs = model_ppc.eigvals_pipsi()\n",
    "[plt.gca().axvline(i, ls='--') for i in eigs]\n",
    "print('eigs pipsi ppc\\n', eigs)\n",
    "print('eigs adj top-10\\n', adje[:10])"
   ]
  },
  {
   "cell_type": "markdown",
   "metadata": {},
   "source": [
    "In particular, for the planted partition model with a uniform testing population, the eigenvalues of the expected adjacency matrix can be written in closed-form."
   ]
  },
  {
   "cell_type": "code",
   "execution_count": 103,
   "metadata": {},
   "outputs": [
    {
     "name": "stderr",
     "output_type": "stream",
     "text": [
      "C:\\Users\\lenovo\\Anaconda3\\lib\\site-packages\\scipy\\stats\\stats.py:1713: FutureWarning: Using a non-tuple sequence for multidimensional indexing is deprecated; use `arr[tuple(seq)]` instead of `arr[seq]`. In the future this will be interpreted as an array index, `arr[np.array(seq)]`, which will result either in an error or a different result.\n",
      "  return np.add.reduce(sorted[indexer] * weights, axis=axis) / sumval\n"
     ]
    },
    {
     "name": "stdout",
     "output_type": "stream",
     "text": [
      "eigs pipsi ppc uni (closed-form)\n",
      " [4.311263632311059, 3.031799862396125, 1.8018224998783894, 1.8018224998783892, 1.801822499878388, 1.2670914314430872, 1.2670914314430868, 1.2670914314430866]\n",
      "eigs adj top-10\n",
      " [5.535701599695652, 4.749246649152036, 4.518301197668974, 4.436837875600386, 4.365047796651121, 4.31777454482286, 4.295853440009558, 4.238736416034244, 4.202067317730374, 4.180384055711008]\n"
     ]
    },
    {
     "data": {
      "image/png": "[encoded data removed]",
      "text/plain": [
       "<Figure size 432x288 with 1 Axes>"
      ]
     },
     "metadata": {},
     "output_type": "display_data"
    }
   ],
   "source": [
    "adje = data_ppc_uni.eigvals()\n",
    "plot = sns.distplot(adje)\n",
    "eigs = model_ppc.eigvals_pipsi(pi='uni')\n",
    "[plt.gca().axvline(i, ls='--') for i in eigs]\n",
    "print('eigs pipsi ppc uni (closed-form)\\n', eigs)\n",
    "print('eigs adj top-10\\n', adje[:10])"
   ]
  },
  {
   "cell_type": "markdown",
   "metadata": {},
   "source": [
    "We see a fair agreement of top eigenvalues."
   ]
  }
 ],
 "metadata": {
  "kernelspec": {
   "display_name": "Python 3",
   "language": "python",
   "name": "python3"
  },
  "language_info": {
   "codemirror_mode": {
    "name": "ipython",
    "version": 3
   },
   "file_extension": ".py",
   "mimetype": "text/x-python",
   "name": "python",
   "nbconvert_exporter": "python",
   "pygments_lexer": "ipython3",
   "version": "3.6.5"
  }
 },
 "nbformat": 4,
 "nbformat_minor": 2
}
