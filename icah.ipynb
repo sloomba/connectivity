{
 "cells": [
  {
   "cell_type": "markdown",
   "metadata": {},
   "source": [
    "# Imperial College Advanced Hackspace (ICAH) Survey"
   ]
  },
  {
   "cell_type": "code",
   "execution_count": 1,
   "metadata": {},
   "outputs": [],
   "source": [
    "%matplotlib inline"
   ]
  },
  {
   "cell_type": "code",
   "execution_count": 2,
   "metadata": {},
   "outputs": [],
   "source": [
    "def import_data(filepath='./icah/Advanced Hackspace Community Survey_March 18, 2019_03.17.tsv', ignore={'Response Type':'Survey Preview'}, duration_cutoff=float('inf'), progress_cutoff=100):\n",
    "    from pandas import read_csv\n",
    "    dat = read_csv(filepath, sep='\\t', skiprows=[0,2], parse_dates=['Start Date', 'End Date', 'Recorded Date'])\n",
    "    for key, val in ignore.items(): dat = dat[dat[key]!=val]\n",
    "    dat = dat[dat['Duration (in seconds)']<=duration_cutoff]\n",
    "    dat = dat[dat['Progress']>=progress_cutoff]\n",
    "    return dat"
   ]
  },
  {
   "cell_type": "code",
   "execution_count": 3,
   "metadata": {
    "scrolled": true
   },
   "outputs": [
    {
     "name": "stdout",
     "output_type": "stream",
     "text": [
      "(191, 97)\n",
      "Start Date\n",
      "End Date\n",
      "Response Type\n",
      "Progress\n",
      "Duration (in seconds)\n",
      "Finished\n",
      "Recorded Date\n",
      "Response ID\n",
      "Distribution Channel\n",
      "User Language\n",
      "EDU - Selected Choice\n",
      "EDU - Other (please fill in) - Text\n",
      "OLD\n",
      "DEP\n",
      "DEPOTH\n",
      "GEN - Selected Choice\n",
      "GEN - Other (please fill in) - Text\n",
      "NAT\n",
      "AHM\n",
      "AHFRE\n",
      "AHTIM\n",
      "AHHIR\n",
      "AHSRC - Selected Choice\n",
      "AHSRC - Other (please fill in) - Text\n",
      "AHSOC - Selected Choice\n",
      "AHSOC - Other (please fill in) - Text\n",
      "AHPRO\n",
      "AHSAF - I am aware of what a 'near miss' is and the importance of reporting these at ICAH\n",
      "AHSAF - I am aware of how to report an accident or near miss at ICAH\n",
      "AHSAF - ICAH is delighted to hear about near-misses\n",
      "AHSAF - I feel safer in the case of an accident or near miss at ICAH, than I do in a departmental lab\n",
      "AHSAF - Safety is central to ICAH community values\n",
      "AHSAF - ICAH is a safe environment to work in\n",
      "AHNRM\n",
      "AHTEA\n",
      "AHCOM - ICAH is a welcoming environment\n",
      "AHCOM - ICAH facilitates collaborative working\n",
      "AHCOM - I feel like I can ask questions/for help from Hackspace Fellows\n",
      "AHCOM - I feel like I can ask questions/for help from other Hackspace members\n",
      "AHCOM - I feel more comfortable with failure inside ICAH than in my department\n",
      "AHCOM - I have made new friends whilst using ICAH\n",
      "AHCOM - I would or have recommended ICAH to a friend\n",
      "AHCOM - ICAH is a gendered environment\n",
      "AHDON\n",
      "AHFAC - I can easily locate any tools/materials I need for my project(s)\n",
      "AHFAC - ICAH provides the tools/materials I need for my project(s)\n",
      "AHFAC - I can easily find help with using unfamiliar tools/materials\n",
      "AHFAC - I can easily find help when a problem occurs (non-accident or near miss)\n",
      "AHUSE - Challenge Room (ICAH)\n",
      "AHUSE - Electronic and Digital Manufacturing Workshop (ICAH)\n",
      "AHUSE - Bio Lab (ICAH)\n",
      "AHUSE - Metal and Wood Workshop (ICAH)\n",
      "AHUSE - 506 EEE (Electrical and Electronic Engineering)\n",
      "AHUSE - ACE 150 (Huxley Building, South Kensington)\n",
      "AHTR1 - Selected Choice\n",
      "AHTR1 - Other (please fill in) - Text\n",
      "AHTR2 - Selected Choice\n",
      "AHTR2 - Other (please fill in) - Text\n",
      "AHBAR - Selected Choice\n",
      "AHBAR - Other (please fill in) - Text\n",
      "AHEXP - Selected Choice\n",
      "AHEXP - Other (please fill in) - Text\n",
      "AHVAL - ICAH helps make my ideas happen\n",
      "AHVAL - ICAH has helped me with my research\n",
      "AHVAL - I love ICAH\n",
      "AHVAL - ICAH is the best thing about Imperial College\n",
      "AHVAL - I have formed new research collaborations through ICAH\n",
      "NUMIMP\n",
      "FREIMP\n",
      "EDUPROPIMP\n",
      "EDUOTHPROPIMP\n",
      "OLDPROPIMP\n",
      "DEPPROPIMP\n",
      "DEPOTHPROPIMP\n",
      "GENPROPIMP\n",
      "GENOTHPROPIMP\n",
      "NATPROPIMP\n",
      "NATOTHPROPIMP\n",
      "INC\n",
      "INCPROPIMP\n",
      "NUMICAH\n",
      "NUMIMPICAH\n",
      "FREICAH\n",
      "EDUPROPICAH\n",
      "EDUOTHPROPICAH\n",
      "OLDPROPICAH\n",
      "DEPPROPICAH\n",
      "DEPOTHPROPICAH\n",
      "GENPROPICAH\n",
      "GENOTHPROPICAH\n",
      "NATPROPICAH\n",
      "NATOTHPROPICAH\n",
      "INCPROPICAH\n",
      "If you could change one thing to make ICAH a better community what would it be?\n",
      "Any other comments?\n",
      "CRE\n",
      "Q6_7_TEXT - Topics\n"
     ]
    }
   ],
   "source": [
    "dat = import_data()\n",
    "print(dat.shape)\n",
    "print('\\n'.join(list(dat)))"
   ]
  },
  {
   "cell_type": "code",
   "execution_count": 4,
   "metadata": {},
   "outputs": [],
   "source": [
    "def count_attribute(df, att, by_att=None, norm=True, ignore=['Do not wish to answer', 'Do not know'], plot=True):\n",
    "    df = df.replace(ignore, [None]*len(ignore))\n",
    "    if plot:\n",
    "        import matplotlib.pyplot as plt\n",
    "        if plot=='small': plt.figure(dpi=80)\n",
    "        else: plt.figure(dpi=160)\n",
    "        from seaborn import countplot\n",
    "        if by_att is None: countplot(y=att, data=df)\n",
    "        else: countplot(y=by_att, hue=att, data=df)\n",
    "        plt.show()\n",
    "    if by_att is None: counts = df[att].value_counts()\n",
    "    else:\n",
    "        from pandas import concat\n",
    "        groups = df[[att, by_att]].groupby(by_att)\n",
    "        names = list()\n",
    "        counts = list()\n",
    "        for name, group in groups:\n",
    "            names.append(name)\n",
    "            counts.append(group[att].value_counts())\n",
    "        counts = concat(counts, axis=1, keys=names, sort=True)\n",
    "    if norm: counts = counts/counts.sum()\n",
    "    counts.fillna(0, inplace=True)\n",
    "    return counts"
   ]
  },
  {
   "cell_type": "code",
   "execution_count": 5,
   "metadata": {},
   "outputs": [],
   "source": [
    "def dist_attribute(df, att, by_att=None, plot=True, max_limit=float('inf')):\n",
    "    keep = df[att]<=max_limit\n",
    "    if plot:\n",
    "        from seaborn import distplot\n",
    "        distplot(df[att][keep])\n",
    "    return df[att][keep].mean(), df[att][keep].std()"
   ]
  },
  {
   "cell_type": "code",
   "execution_count": 6,
   "metadata": {},
   "outputs": [
    {
     "name": "stdout",
     "output_type": "stream",
     "text": [
      "(502.0705882352941, 269.89120263544527)\n"
     ]
    },
    {
     "data": {
      "image/png": "[encoded data removed]",
      "text/plain": [
       "<Figure size 432x288 with 1 Axes>"
      ]
     },
     "metadata": {
      "needs_background": "light"
     },
     "output_type": "display_data"
    }
   ],
   "source": [
    "print(dist_attribute(dat, 'Duration (in seconds)', max_limit=1800))"
   ]
  },
  {
   "cell_type": "code",
   "execution_count": 7,
   "metadata": {},
   "outputs": [
    {
     "name": "stdout",
     "output_type": "stream",
     "text": [
      "survey duration: 0 days 00:05:01 | duration from qualtrics: 301 seconds | recording date: 2019-02-12 10:18:46\n"
     ]
    }
   ],
   "source": [
    "print('survey duration:', dat['End Date'][0]-dat['Start Date'][0], '| duration from qualtrics:', dat['Duration (in seconds)'][0], 'seconds | recording date:', dat['Recorded Date'][0])"
   ]
  },
  {
   "cell_type": "code",
   "execution_count": 8,
   "metadata": {},
   "outputs": [
    {
     "data": {
      "image/png": "[encoded data removed]",
      "text/plain": [
       "<Figure size 480x320 with 1 Axes>"
      ]
     },
     "metadata": {
      "needs_background": "light"
     },
     "output_type": "display_data"
    },
    {
     "name": "stdout",
     "output_type": "stream",
     "text": [
      "Every few months         0.258824\n",
      "Every few weeks          0.182353\n",
      "At least once a week     0.164706\n",
      "About once a month       0.164706\n",
      "Have never used them     0.105882\n",
      "About once a year        0.094118\n",
      "Less than once a year    0.029412\n",
      "Name: AHFRE, dtype: float64\n"
     ]
    }
   ],
   "source": [
    "print(count_attribute(dat, 'AHFRE', plot='small'))"
   ]
  },
  {
   "cell_type": "code",
   "execution_count": 9,
   "metadata": {},
   "outputs": [
    {
     "data": {
      "image/png": "[encoded data removed]",
      "text/plain": [
       "<Figure size 480x320 with 1 Axes>"
      ]
     },
     "metadata": {
      "needs_background": "light"
     },
     "output_type": "display_data"
    },
    {
     "name": "stdout",
     "output_type": "stream",
     "text": [
      "                           Female      Male\n",
      "All or almost all        0.135593  0.228814\n",
      "Close to a quarter       0.220339  0.050847\n",
      "Close to half            0.338983  0.313559\n",
      "Close to three-quarters  0.169492  0.406780\n",
      "None or almost none      0.135593  0.000000\n"
     ]
    }
   ],
   "source": [
    "print(count_attribute(dat, 'GENPROPIMP', 'GEN - Selected Choice', ignore=['Do not wish to answer', 'Do not know', 'Trans-male', 'Trans-female', 'Other (please fill in)'], plot='small'))"
   ]
  },
  {
   "cell_type": "code",
   "execution_count": 10,
   "metadata": {},
   "outputs": [],
   "source": [
    "def generate_sbm_params(df):\n",
    "    #define key variables\n",
    "    blau_dims = ['GEN', 'EDU', 'OLD', 'DEP', 'NAT', 'INC']\n",
    "    choice_qs = ['GEN', 'EDU']\n",
    "    resp_vars = [i+' - Selected Choice' if i in choice_qs else i for i in blau_dims]\n",
    "    prop_imp_vars = [i+'PROPIMP' for i in blau_dims]+[i+'IMP' for i in ['NUM', 'FRE']]\n",
    "    prop_icah_vars = [i+'PROPICAH' for i in blau_dims]+[i+'ICAH' for i in ['NUM', 'FRE']]\n",
    "    prop_ops_1 = ['All or almost all', 'Close to three-quarters', 'Close to half', 'Close to a quarter', 'None or almost none']\n",
    "    prop_ops_2 = ['All', 'More than half', 'About half', 'Less than half', 'None']\n",
    "    prop_value = [1.0, 0.75, 0.5, 0.25, 0.0]\n",
    "    prop_ops = dict(zip(prop_ops_1+prop_ops_2, prop_value*2))\n",
    "    #blau dims\n",
    "    gen_ignore = ['Do not wish to answer', 'Do not know', 'Trans-male', 'Trans-female', 'Other (please fill in)']\n",
    "    shape = []\n",
    "    names_all = []\n",
    "    pis_all = []\n",
    "    rhos_imp_all = []\n",
    "    rhos_icah_all = []\n",
    "    omegas_imp_all = []\n",
    "    omegas_icah_all = []\n",
    "    for i in range(len(blau_dims)):\n",
    "        names = []\n",
    "        pis = []\n",
    "        rhos_imp = []\n",
    "        rhos_icah = []\n",
    "        omegas_imp = []\n",
    "        omegas_icah = []\n",
    "        if blau_dims[i]=='GEN':\n",
    "            pi = count_attribute(df, resp_vars[i], ignore=gen_ignore, plot=False)\n",
    "            rho_imp = count_attribute(df, prop_imp_vars[i], resp_vars[i], ignore=gen_ignore, plot=False)\n",
    "            rho_icah = count_attribute(df, prop_icah_vars[i], resp_vars[i], ignore=gen_ignore, plot=False)\n",
    "            omega_imp = count_attribute(df, 'NUMIMP', resp_vars[i], ignore=gen_ignore, plot=False)\n",
    "            omega_icah = count_attribute(df, 'NUMICAH', resp_vars[i], ignore=gen_ignore, plot=False)\n",
    "        else:\n",
    "            pi = count_attribute(df, resp_vars[i], plot=False)\n",
    "            rho_imp = count_attribute(df, prop_imp_vars[i], resp_vars[i], plot=False)\n",
    "            rho_icah = count_attribute(df, prop_icah_vars[i], resp_vars[i], plot=False)\n",
    "            omega_imp = count_attribute(df, 'NUMIMP', resp_vars[i], plot=False)\n",
    "            omega_icah = count_attribute(df, 'NUMICAH', resp_vars[i], plot=False)\n",
    "        for vname in pi.index:\n",
    "            names.append(vname)\n",
    "            pis.append(pi.loc[vname])\n",
    "            rhos_imp.append(sum([prop_ops[i]*rho_imp[vname][i] for i in rho_imp.index]))\n",
    "            rhos_icah.append(sum([prop_ops[i]*rho_icah[vname][i] for i in rho_icah.index]))\n",
    "            omegas_imp.append(sum([int(i)*omega_imp[vname][i] for i in omega_imp.index]))\n",
    "            omegas_icah.append(sum([int(i)*omega_icah[vname][i] for i in omega_icah.index]))\n",
    "        shape.append(len(names))\n",
    "        names_all.append((blau_dims[i], tuple(names)))\n",
    "        pis_all.append(tuple(pis))\n",
    "        rhos_imp_all.append(tuple(rhos_imp))\n",
    "        rhos_icah_all.append(tuple(rhos_icah))\n",
    "        omegas_imp_all.append(tuple(omegas_imp))\n",
    "        omegas_icah_all.append(tuple(omegas_icah))\n",
    "    return {'shape':tuple(shape), 'name':tuple(names_all), 'pi':tuple(pis_all), 'rho_imp':tuple(rhos_imp_all), 'rho_icah':tuple(rhos_icah_all), 'omega_imp':tuple(omegas_imp_all), 'omega_icah':tuple(omegas_icah_all)}"
   ]
  },
  {
   "cell_type": "code",
   "execution_count": 11,
   "metadata": {},
   "outputs": [],
   "source": [
    "sbm_params = generate_sbm_params(dat)"
   ]
  },
  {
   "cell_type": "code",
   "execution_count": 1,
   "metadata": {},
   "outputs": [],
   "source": [
    "from egosbm import EgocentricSBM\n",
    "#sbm_imp = EgocentricSBM(shape=sbm_params['shape'], dims=sbm_params['name'], name='icah-imp')\n",
    "#sbm_imp.set_pi(sbm_params['pi'])\n",
    "#sbm_imp.set_rho(sbm_params['rho_imp'])\n",
    "#sbm_imp.set_omega(sbm_imp.correct_omega(sbm_params['omega_imp']))\n",
    "#sbm_imp.save()\n",
    "sbm_imp = EgocentricSBM(filepath='icah-imp.ego')"
   ]
  },
  {
   "cell_type": "code",
   "execution_count": 2,
   "metadata": {},
   "outputs": [],
   "source": [
    "#sbm_icah = EgocentricSBM(shape=sbm_params['shape'], dims=sbm_params['name'], name='icah-icah')\n",
    "#sbm_icah.set_pi(sbm_params['pi'])\n",
    "#sbm_icah.set_rho(sbm_params['rho_icah'])\n",
    "#sbm_icah.set_omega(sbm_icah.correct_omega(sbm_params['omega_icah']))\n",
    "#sbm_icah.save()\n",
    "sbm_icah = EgocentricSBM(filepath='icah-icah.ego')"
   ]
  },
  {
   "cell_type": "code",
   "execution_count": 3,
   "metadata": {},
   "outputs": [
    {
     "name": "stdout",
     "output_type": "stream",
     "text": [
      "name:     icah-imp\n",
      "ndim:     6\n",
      "shape:    (2, 8, 5, 23, 39, 4)\n",
      "          \n",
      "|dims|    |blocks|\n",
      "GEN       ('Male', 'Female')\n",
      "EDU       ('an Undergraduate student', 'a Postgraduate research student', 'a Postgraduate taught student', 'Non-academic staff', 'an Imperial College Alum', 'a Research fellow or associate', 'Other (please fill in)', 'Academic staff')\n",
      "OLD       ('less than a year', 'more than 4 years', '2 to 3 years', '3 to 4 years', '1 to 2 years')\n",
      "DEP       ('Dyson School of Design Engineering', 'Mechanical Engineering', 'Chemistry', 'Electrical and Electronic Engineering', 'Bioengineering', 'Department of Medicine', 'Physics', 'Computing', 'Aeronautics', 'Materials', 'Civil and Environmental Engineering', 'Enterprise or Advanced Hackspace', 'Other', 'Life Sciences', 'National Heart and Lung Institute', 'Earth Science and Engineering', 'Library', 'Department of Surgery and Cancer', 'Chemical Engineering', 'Finance', 'School of Public Health', 'Mathematics', 'Management')\n",
      "NAT       ('United Kingdom', 'Malaysia', 'Spain', 'United States of America', 'China', 'Germany', 'Italy', 'Ireland', 'India', 'Poland', 'Hungary', 'Hong Kong', 'Cyprus', 'France', 'Japan', 'South Korea', 'Romania', 'Canada', 'Portugal', 'Turkey', 'Switzerland', 'Taiwan', 'Belgium', 'Australia', 'Venezuela', 'Chile', 'Singapore', 'Sri Lanka', 'Afghanistan', 'South Africa', 'Argentina', 'New Zealand', 'Thailand', 'Bulgaria', 'Lebanon', 'Denmark', 'Brazil', 'Somalia', 'Trinidad and Tobago')\n",
      "INC       ('Once a week', 'Almost never', 'A few days a week', 'Almost everyday')\n",
      "          \n",
      "|dims|    |pi|\n",
      "GEN       (0.6648648648648648, 0.33513513513513515)\n",
      "EDU       (0.45549738219895286, 0.18324607329842932, 0.1099476439790576, 0.09947643979057591, 0.05759162303664921, 0.041884816753926704, 0.02617801047120419, 0.02617801047120419)\n",
      "OLD       (0.2356020942408377, 0.20418848167539266, 0.193717277486911, 0.193717277486911, 0.17277486910994763)\n",
      "DEP       (0.18848167539267016, 0.1256544502617801, 0.08900523560209424, 0.07853403141361257, 0.07329842931937172, 0.05759162303664921, 0.05759162303664921, 0.05759162303664921, 0.03664921465968586, 0.031413612565445025, 0.031413612565445025, 0.031413612565445025, 0.02617801047120419, 0.020942408376963352, 0.015706806282722512, 0.015706806282722512, 0.010471204188481676, 0.010471204188481676, 0.010471204188481676, 0.010471204188481676, 0.010471204188481676, 0.005235602094240838, 0.005235602094240838)\n",
      "NAT       (0.43915343915343913, 0.0582010582010582, 0.047619047619047616, 0.037037037037037035, 0.037037037037037035, 0.026455026455026454, 0.026455026455026454, 0.026455026455026454, 0.026455026455026454, 0.021164021164021163, 0.021164021164021163, 0.015873015873015872, 0.015873015873015872, 0.015873015873015872, 0.010582010582010581, 0.010582010582010581, 0.010582010582010581, 0.010582010582010581, 0.010582010582010581, 0.010582010582010581, 0.010582010582010581, 0.010582010582010581, 0.010582010582010581, 0.010582010582010581, 0.005291005291005291, 0.005291005291005291, 0.005291005291005291, 0.005291005291005291, 0.005291005291005291, 0.005291005291005291, 0.005291005291005291, 0.005291005291005291, 0.005291005291005291, 0.005291005291005291, 0.005291005291005291, 0.005291005291005291, 0.005291005291005291, 0.005291005291005291, 0.005291005291005291)\n",
      "INC       (0.4685714285714286, 0.37142857142857144, 0.13142857142857142, 0.02857142857142857)\n",
      "          \n",
      "|dims|    |rho|\n",
      "GEN       (0.7033898305084746, 0.4872881355932203)\n",
      "EDU       (0.9712643678160919, 0.8897058823529411, 0.8500000000000001, 0.7, 0.6590909090909091, 0.3928571428571428, 0.0, 0.45000000000000007)\n",
      "OLD       (0.7619047619047619, 0.5897435897435898, 0.875, 0.875, 0.9166666666666667)\n",
      "DEP       (0.7000000000000001, 0.6875, 0.8088235294117647, 0.7142857142857143, 0.6785714285714285, 0.7954545454545454, 0.625, 0.8055555555555556, 0.5714285714285714, 0.7083333333333333, 0.7083333333333333, 0.625, 0.0, 0.75, 0.9166666666666666, 0.9166666666666666, 0.25, 1.0, 0.375, 0.625, 0.875, 0.25, 0.5)\n",
      "NAT       (0.596875, 0.45454545454545453, 0.3333333333333333, 0.0, 0.6071428571428571, 0.1, 0.4375, 0.0, 0.25, 0.0, 0.125, 0.25, 0.16666666666666666, 0.41666666666666663, 0.125, 0.0, 0.0, 0.0, 0.125, 0.125, 0.0, 0.125, 0.0, 0.0, 0.0, 0.75, 0.5, 0.0, 0.25, 0.0, 0.0, 0.0, 0.0, 0.0, 0.0, 0.0, 0.0, 0.0, 0.0)\n",
      "INC       (0.6958333333333333, 0.40909090909090906, 0.513157894736842, 0.55)\n",
      "          \n",
      "|dims|    |omega|\n",
      "GEN       (8.101477309488285, 5.772007020520733)\n",
      "EDU       (8.282018838288424, 6.205028036691901, 6.662240628869198, 4.609449398685413, 8.676294614075688, 7.534676901697309, 8.840687564658177, 6.630515673493632)\n",
      "OLD       (4.630690081358638, 8.822180691083256, 7.2181478381590285, 7.762373270401179, 8.834712197746729)\n",
      "DEP       (8.199055456631305, 8.421358395646825, 5.974282514013219, 7.451071450061431, 7.6956046829785025, 5.940719129103032, 13.730475645076346, 5.492190258030538, 5.609880049274049, 6.846930521678071, 9.817290086229587, 3.8597892646714613, 5.286233123354393, 4.027606189222395, 7.55176160479199, 9.062113925750388, 2.0138030946111973, 4.027606189222395, 6.041409283833592, 1.510352320958398, 7.55176160479199, 0.0, 6.041409283833592)\n",
      "NAT       (9.052272251957962, 5.981242691024118, 5.755535419664716, 6.094096326703816, 4.062730884469211, 4.875277061363055, 4.824492925307189, 2.6407750749049876, 4.2658674286926725, 7.109779047821121, 6.6019376872624695, 5.4169745126256155, 6.094096326703818, 12.188192653407633, 3.5548895239105605, 3.047048163351909, 15.235240816759545, 5.078413605586515, 6.6019376872624695, 7.109779047821121, 7.109779047821121, 4.062730884469212, 11.172509932290332, 6.6019376872624695, 5.078413605586515, 10.15682721117303, 16.250923537876847, 3.047048163351909, 2.031365442234606, 2.031365442234606, 10.15682721117303, 12.188192653407636, 6.094096326703818, 2.031365442234606, 10.15682721117303, 0.0, 10.15682721117303, 0.0, 6.094096326703818)\n",
      "INC       (6.405747591634208, 8.536055854354133, 7.80217731123845, 4.314646687963559)\n"
     ]
    }
   ],
   "source": [
    "print(sbm_imp)"
   ]
  },
  {
   "cell_type": "code",
   "execution_count": 4,
   "metadata": {},
   "outputs": [
    {
     "name": "stdout",
     "output_type": "stream",
     "text": [
      "name:     icah-icah\n",
      "ndim:     6\n",
      "shape:    (2, 8, 5, 23, 39, 4)\n",
      "          \n",
      "|dims|    |blocks|\n",
      "GEN       ('Male', 'Female')\n",
      "EDU       ('an Undergraduate student', 'a Postgraduate research student', 'a Postgraduate taught student', 'Non-academic staff', 'an Imperial College Alum', 'a Research fellow or associate', 'Other (please fill in)', 'Academic staff')\n",
      "OLD       ('less than a year', 'more than 4 years', '2 to 3 years', '3 to 4 years', '1 to 2 years')\n",
      "DEP       ('Dyson School of Design Engineering', 'Mechanical Engineering', 'Chemistry', 'Electrical and Electronic Engineering', 'Bioengineering', 'Department of Medicine', 'Physics', 'Computing', 'Aeronautics', 'Materials', 'Civil and Environmental Engineering', 'Enterprise or Advanced Hackspace', 'Other', 'Life Sciences', 'National Heart and Lung Institute', 'Earth Science and Engineering', 'Library', 'Department of Surgery and Cancer', 'Chemical Engineering', 'Finance', 'School of Public Health', 'Mathematics', 'Management')\n",
      "NAT       ('United Kingdom', 'Malaysia', 'Spain', 'United States of America', 'China', 'Germany', 'Italy', 'Ireland', 'India', 'Poland', 'Hungary', 'Hong Kong', 'Cyprus', 'France', 'Japan', 'South Korea', 'Romania', 'Canada', 'Portugal', 'Turkey', 'Switzerland', 'Taiwan', 'Belgium', 'Australia', 'Venezuela', 'Chile', 'Singapore', 'Sri Lanka', 'Afghanistan', 'South Africa', 'Argentina', 'New Zealand', 'Thailand', 'Bulgaria', 'Lebanon', 'Denmark', 'Brazil', 'Somalia', 'Trinidad and Tobago')\n",
      "INC       ('Once a week', 'Almost never', 'A few days a week', 'Almost everyday')\n",
      "          \n",
      "|dims|    |pi|\n",
      "GEN       (0.6648648648648648, 0.33513513513513515)\n",
      "EDU       (0.45549738219895286, 0.18324607329842932, 0.1099476439790576, 0.09947643979057591, 0.05759162303664921, 0.041884816753926704, 0.02617801047120419, 0.02617801047120419)\n",
      "OLD       (0.2356020942408377, 0.20418848167539266, 0.193717277486911, 0.193717277486911, 0.17277486910994763)\n",
      "DEP       (0.18848167539267016, 0.1256544502617801, 0.08900523560209424, 0.07853403141361257, 0.07329842931937172, 0.05759162303664921, 0.05759162303664921, 0.05759162303664921, 0.03664921465968586, 0.031413612565445025, 0.031413612565445025, 0.031413612565445025, 0.02617801047120419, 0.020942408376963352, 0.015706806282722512, 0.015706806282722512, 0.010471204188481676, 0.010471204188481676, 0.010471204188481676, 0.010471204188481676, 0.010471204188481676, 0.005235602094240838, 0.005235602094240838)\n",
      "NAT       (0.43915343915343913, 0.0582010582010582, 0.047619047619047616, 0.037037037037037035, 0.037037037037037035, 0.026455026455026454, 0.026455026455026454, 0.026455026455026454, 0.026455026455026454, 0.021164021164021163, 0.021164021164021163, 0.015873015873015872, 0.015873015873015872, 0.015873015873015872, 0.010582010582010581, 0.010582010582010581, 0.010582010582010581, 0.010582010582010581, 0.010582010582010581, 0.010582010582010581, 0.010582010582010581, 0.010582010582010581, 0.010582010582010581, 0.010582010582010581, 0.005291005291005291, 0.005291005291005291, 0.005291005291005291, 0.005291005291005291, 0.005291005291005291, 0.005291005291005291, 0.005291005291005291, 0.005291005291005291, 0.005291005291005291, 0.005291005291005291, 0.005291005291005291, 0.005291005291005291, 0.005291005291005291, 0.005291005291005291, 0.005291005291005291)\n",
      "INC       (0.4685714285714286, 0.37142857142857144, 0.13142857142857142, 0.02857142857142857)\n",
      "          \n",
      "|dims|    |rho|\n",
      "GEN       (0.8629032258064515, 0.38888888888888884)\n",
      "EDU       (0.6704545454545454, 0.30000000000000004, 0.5, 0.6875, 0.5, 0.0, 0.0, 0.75)\n",
      "OLD       (0.7916666666666666, 0.5, 0.75, 1.0, 0.8)\n",
      "DEP       (0.5833333333333334, 0.30000000000000004, 0.625, 0.0, 0.3333333333333333, 0.5, 0.2, 0.0, 0.5, 0.5, 0.0, 0.875, 0.0, 0.0, 0.0, 0.0, 0.0, 0.0, 0.0, 0.75, 0.0, 0.0, 0.0)\n",
      "NAT       (0.5833333333333333, 0.0, 0.0, 0.0, 0.3333333333333333, 0.0, 0.0, 0.0, 0.0, 0.0, 0.0, 0.0, 0.0, 0.0, 0.0, 0.0, 0.0, 0.0, 0.0, 0.0, 0.0, 0.125, 0.0, 0.0, 0.0, 0.0, 0.0, 0.0, 0.0, 0.0, 0.0, 0.0, 0.0, 0.0, 0.0, 0.0, 0.0, 0.0, 0.0)\n",
      "INC       (0.48076923076923084, 0.17857142857142855, 0.125, 0.625)\n",
      "          \n",
      "|dims|    |omega|\n",
      "GEN       (2.4288598810354523, 1.912838367848433)\n",
      "EDU       (2.6067022448217676, 1.649811547355549, 1.484830392619994, 1.3858416997786613, 3.2171325173433205, 2.969660785239988, 5.279396951537756, 0.6599246189422195)\n",
      "OLD       (1.7130884652569065, 2.459819334727866, 2.9517832016734395, 2.3719686442018704, 1.8448645010458995)\n",
      "DEP       (2.101028917691804, 4.137161189277297, 1.9306752216627387, 0.9653376108313694, 1.448006416247054, 6.757363275819586, 2.2064859676145585, 1.448006416247054, 1.9306752216627387, 2.896012832494108, 0.0, 4.5853536514490045, 1.9306752216627387, 0.9653376108313694, 0.0, 0.0, 0.0, 0.0, 0.0, 0.9653376108313694, 0.0, 0.0, 0.0)\n",
      "NAT       (3.106654855790895, 3.0308827861374583, 0.0, 2.4247062289099666, 6.667942129502408, 3.6370593433649496, 1.2123531144549833, 0.0, 2.4247062289099666, 1.8185296716824748, 0.6061765572274916, 0.0, 0.0, 0.0, 1.2123531144549833, 0.0, 0.0, 0.0, 0.0, 0.0, 7.274118686729899, 3.6370593433649496, 0.6061765572274916, 0.0, 0.0, 0.0, 0.0, 0.0, 0.0, 0.0, 0.0, 0.0, 0.0, 0.0, 0.0, 0.0, 0.0, 0.0, 0.0)\n",
      "INC       (2.805589444988916, 1.923832762278114, 1.2023954764238214, 2.4047909528476428)\n"
     ]
    }
   ],
   "source": [
    "print(sbm_icah)"
   ]
  },
  {
   "cell_type": "code",
   "execution_count": 5,
   "metadata": {},
   "outputs": [
    {
     "name": "stdout",
     "output_type": "stream",
     "text": [
      "('GEN', 'EDU', 'OLD', 'DEP', 'NAT', 'INC')\n",
      "[0.6309665597801191, 0.8347254608649743, 0.7973074046372476, 0.690577993850245, 0.3768683862433864, 0.5611535657325131]\n",
      "[0.7040443669475926, 0.5321573060447405, 0.7658376963350785, 0.33739092495636996, 0.2698412698412698, 0.3258869701726844]\n"
     ]
    }
   ],
   "source": [
    "print(sbm_imp.keys())\n",
    "print(sbm_imp.mean_homophily())\n",
    "print(sbm_icah.mean_homophily())"
   ]
  },
  {
   "cell_type": "code",
   "execution_count": 6,
   "metadata": {},
   "outputs": [
    {
     "name": "stdout",
     "output_type": "stream",
     "text": [
      "compression stats:\n",
      " (('GEN', {'loss': 0.0, 'rate': 0.0}), ('EDU', {'loss': -0.01, 'rate': 0.375}), ('OLD', {'loss': 0.0, 'rate': 0.0}), ('DEP', {'loss': -0.014, 'rate': 0.652}), ('NAT', {'loss': -0.081, 'rate': 0.897}), ('INC', {'loss': -0.003, 'rate': 0.25}))\n",
      "\n",
      "new shape: (2, 5, 5, 8, 4, 3)\n",
      "\n",
      "new mean homophily:\n",
      " [0.6309665597801191, 0.8447585281839574, 0.7973074046372476, 0.7041950720286088, 0.4578195054125373, 0.564066280056267]\n"
     ]
    },
    {
     "name": "stderr",
     "output_type": "stream",
     "text": [
      "C:\\Users\\sl2416\\Documents\\phd\\dat\\egosbm.py:714: RuntimeWarning: expected at least 2 blocks to be merged together, no merge performed for dim 1\n",
      "  warn('expected at least 2 blocks to be merged together, no merge performed for dim %s'%str(key), RuntimeWarning)\n",
      "C:\\Users\\sl2416\\Documents\\phd\\dat\\egosbm.py:714: RuntimeWarning: expected at least 2 blocks to be merged together, no merge performed for dim 3\n",
      "  warn('expected at least 2 blocks to be merged together, no merge performed for dim %s'%str(key), RuntimeWarning)\n"
     ]
    }
   ],
   "source": [
    "print('compression stats:\\n', sbm_imp.compress())\n",
    "print('\\nnew shape:', sbm_imp.shape)\n",
    "print('\\nnew mean homophily:\\n', sbm_imp.mean_homophily())"
   ]
  },
  {
   "cell_type": "code",
   "execution_count": 7,
   "metadata": {},
   "outputs": [
    {
     "data": {
      "text/plain": [
       "(('GEN', {'loss': 0.0, 'rate': 0.0}),\n",
       " ('EDU', {'loss': -0.003, 'rate': 0.5}),\n",
       " ('OLD', {'loss': 0.0, 'rate': 0.0}),\n",
       " ('DEP', {'loss': -0.104, 'rate': 0.783}),\n",
       " ('NAT', {'loss': -0.256, 'rate': 0.923}),\n",
       " ('INC', {'loss': -0.016, 'rate': 0.25}))"
      ]
     },
     "execution_count": 7,
     "metadata": {},
     "output_type": "execute_result"
    }
   ],
   "source": [
    "sbm_icah.compress()"
   ]
  },
  {
   "cell_type": "code",
   "execution_count": 8,
   "metadata": {},
   "outputs": [
    {
     "name": "stdout",
     "output_type": "stream",
     "text": [
      "('GEN', 'EDU', 'OLD', 'DEP', 'NAT', 'INC') (2, 5, 5, 8, 4, 3) (2, 4, 5, 5, 3, 3)\n"
     ]
    }
   ],
   "source": [
    "print(sbm_imp.keys(), sbm_imp.shape, sbm_icah.shape)"
   ]
  },
  {
   "cell_type": "code",
   "execution_count": 9,
   "metadata": {},
   "outputs": [
    {
     "data": {
      "text/plain": [
       "(('an Undergraduate student',\n",
       "  'a Postgraduate research student',\n",
       "  'a Postgraduate taught student',\n",
       "  'Non-academic staff',\n",
       "  '(an Imperial College Alum) | ((a Research fellow or associate) | ((Other (please fill in)) | (Academic staff)))'),\n",
       " ('Dyson School of Design Engineering',\n",
       "  'Mechanical Engineering',\n",
       "  'Chemistry',\n",
       "  '(Physics) | ((National Heart and Lung Institute) | (Earth Science and Engineering))',\n",
       "  '(Electrical and Electronic Engineering) | (Bioengineering)',\n",
       "  '(Computing) | ((Materials) | (Civil and Environmental Engineering))',\n",
       "  '((Life Sciences) | ((Department of Surgery and Cancer) | ((Chemical Engineering) | (Management)))) | ((School of Public Health) | ((Finance) | ((Library) | ((Other) | (Mathematics)))))',\n",
       "  '(Department of Medicine) | ((Aeronautics) | (Enterprise or Advanced Hackspace))'),\n",
       " ('United Kingdom',\n",
       "  '(United States of America) | (Ireland) | (Poland) | (South Korea) | (Romania) | (Canada) | (Switzerland) | (Belgium) | (Australia) | (Venezuela) | (Sri Lanka) | (South Africa) | (Argentina) | (New Zealand) | (Thailand) | (Bulgaria) | (Lebanon) | (Denmark) | (Brazil) | (Somalia) | (Trinidad and Tobago)',\n",
       "  '(Malaysia) | ((Italy) | ((India) | ((Hungary) | (Cyprus))))',\n",
       "  '((Spain) | ((France) | ((Chile) | (Singapore)))) | ((China) | (((Germany) | ((Japan) | (Portugal))) | ((Hong Kong) | ((Taiwan) | ((Turkey) | (Afghanistan))))))'))"
      ]
     },
     "execution_count": 9,
     "metadata": {},
     "output_type": "execute_result"
    }
   ],
   "source": [
    "sbm_imp.get_name(['EDU','DEP','NAT'])"
   ]
  },
  {
   "cell_type": "code",
   "execution_count": 10,
   "metadata": {},
   "outputs": [
    {
     "data": {
      "text/plain": [
       "(('an Undergraduate student',\n",
       "  'a Postgraduate research student',\n",
       "  'a Postgraduate taught student',\n",
       "  '(Non-academic staff) | ((an Imperial College Alum) | (((a Research fellow or associate) | (Other (please fill in))) | (Academic staff)))'),\n",
       " ('Dyson School of Design Engineering',\n",
       "  '(Electrical and Electronic Engineering) | (Computing) | (Civil and Environmental Engineering) | (Other) | (Life Sciences) | (National Heart and Lung Institute) | (Earth Science and Engineering) | (Library) | (Department of Surgery and Cancer) | (Chemical Engineering) | (School of Public Health) | (Mathematics) | (Management)',\n",
       "  '(Department of Medicine) | (Enterprise or Advanced Hackspace)',\n",
       "  '(Mechanical Engineering) | ((Aeronautics) | (Materials))',\n",
       "  '(Chemistry) | ((Bioengineering) | ((Physics) | (Finance)))'),\n",
       " ('United Kingdom',\n",
       "  '(Malaysia) | (Spain) | (United States of America) | (Germany) | (Italy) | (Ireland) | (India) | (Poland) | (Hungary) | (Hong Kong) | (Cyprus) | (France) | (Japan) | (South Korea) | (Romania) | (Canada) | (Portugal) | (Turkey) | (Switzerland) | (Belgium) | (Australia) | (Venezuela) | (Chile) | (Singapore) | (Sri Lanka) | (Afghanistan) | (South Africa) | (Argentina) | (New Zealand) | (Thailand) | (Bulgaria) | (Lebanon) | (Denmark) | (Brazil) | (Somalia) | (Trinidad and Tobago)',\n",
       "  '(China) | (Taiwan)'))"
      ]
     },
     "execution_count": 10,
     "metadata": {},
     "output_type": "execute_result"
    }
   ],
   "source": [
    "sbm_icah.get_name(['EDU','DEP','NAT'])"
   ]
  },
  {
   "cell_type": "code",
   "execution_count": 11,
   "metadata": {},
   "outputs": [
    {
     "name": "stdout",
     "output_type": "stream",
     "text": [
      "('GEN', 'EDU', 'OLD', 'DEP', 'NAT', 'INC')\n",
      "[0.6309665597801191, 0.8447585281839574, 0.7973074046372476, 0.7041950720286088, 0.4578195054125373, 0.564066280056267]\n",
      "[0.7040443669475926, 0.534872759575306, 0.7658376963350785, 0.4411921617120639, 0.5256700692204981, 0.34151330204514635]\n"
     ]
    }
   ],
   "source": [
    "print(sbm_imp.keys())\n",
    "print(sbm_imp.mean_homophily())\n",
    "print(sbm_icah.mean_homophily())"
   ]
  },
  {
   "cell_type": "code",
   "execution_count": 12,
   "metadata": {},
   "outputs": [
    {
     "name": "stdout",
     "output_type": "stream",
     "text": [
      "[[True, True], [True, True, True, True, True], [True, True, True, True, True], [True, True, True, True, True, True, True, True], [True, False, True, True], [True, True, True]]\n"
     ]
    }
   ],
   "source": [
    "print(sbm_imp.ishomophilous())"
   ]
  },
  {
   "cell_type": "code",
   "execution_count": 13,
   "metadata": {},
   "outputs": [
    {
     "name": "stdout",
     "output_type": "stream",
     "text": [
      "[[True, True], [True, True, True, True], [True, True, True, True, True], [True, False, True, True, True], [True, False, True], [True, False, True]]\n"
     ]
    }
   ],
   "source": [
    "print(sbm_icah.ishomophilous())"
   ]
  },
  {
   "cell_type": "code",
   "execution_count": 14,
   "metadata": {},
   "outputs": [
    {
     "name": "stdout",
     "output_type": "stream",
     "text": [
      "imperial: (11.965048977534988, 3.122640319622973)\n",
      "icah: (inf, nan)\n"
     ]
    },
    {
     "name": "stderr",
     "output_type": "stream",
     "text": [
      "C:\\Users\\sl2416\\Documents\\phd\\dat\\egosbm.py:1080: RuntimeWarning: divide by zero encountered in log2\n",
      "  if log_ratio: out = np.log2(out) - np.hstack([np.log2(np.diag(out))[:,np.newaxis]]*self.get_shape())\n",
      "C:\\Users\\sl2416\\Documents\\phd\\dat\\egosbm.py:1095: RuntimeWarning: invalid value encountered in subtract\n",
      "  var = self.find_mean((value - mean)**2, pi, approx)\n"
     ]
    }
   ],
   "source": [
    "print('imperial:', sbm_imp.get_model().sas_global())\n",
    "print('icah:', sbm_icah.get_model().sas_global())"
   ]
  },
  {
   "cell_type": "code",
   "execution_count": 15,
   "metadata": {},
   "outputs": [
    {
     "name": "stdout",
     "output_type": "stream",
     "text": [
      "imperial: (-7.320789969401856, 13.610941048110943)\n",
      "icah: (-2.255922941480886, 6.034424951215126)\n"
     ]
    }
   ],
   "source": [
    "print('imperial:', sbm_imp.get_model().sas_global(log_ratio=False))\n",
    "print('icah:', sbm_icah.get_model().sas_global(log_ratio=False))"
   ]
  },
  {
   "cell_type": "code",
   "execution_count": 16,
   "metadata": {},
   "outputs": [
    {
     "name": "stdout",
     "output_type": "stream",
     "text": [
      "imperial: 7.320789969401862\n",
      "icah: 2.255922941480883\n"
     ]
    }
   ],
   "source": [
    "print('imperial:', sbm_imp.mean_omega())\n",
    "print('icah:', sbm_icah.mean_omega())"
   ]
  },
  {
   "cell_type": "code",
   "execution_count": 17,
   "metadata": {},
   "outputs": [
    {
     "data": {
      "text/plain": [
       "((0.8629032258064515, 0.38888888888888884),\n",
       " (0.6704545454545454, 0.30000000000000004, 0.5, 0.4756489921737082),\n",
       " (0.7916666666666666, 0.5, 0.75, 1.0, 0.8),\n",
       " (0.5833333333333334,\n",
       "  0.2577055139673736,\n",
       "  0.6154754280346698,\n",
       "  0.4086646399636347,\n",
       "  0.522609423536819),\n",
       " (0.5833333333333333, 0.4957834524258847, 0.3159979478551851),\n",
       " (0.48076923076923084, 0.17857142857142855, 0.3119502884886012))"
      ]
     },
     "execution_count": 17,
     "metadata": {},
     "output_type": "execute_result"
    }
   ],
   "source": [
    "sbm_icah.rho"
   ]
  },
  {
   "cell_type": "code",
   "execution_count": 18,
   "metadata": {},
   "outputs": [
    {
     "name": "stdout",
     "output_type": "stream",
     "text": [
      "('less than a year', 0.7916666666666666) ('more than 4 years', 0.5) ('2 to 3 years', 0.75) ('3 to 4 years', 1.0) ('1 to 2 years', 0.8)\n"
     ]
    }
   ],
   "source": [
    "print(*zip(sbm_icah.dims[2][1], sbm_icah.rho[2]))"
   ]
  },
  {
   "cell_type": "code",
   "execution_count": 19,
   "metadata": {},
   "outputs": [],
   "source": [
    "sbm_icah.merge('OLD', ('more than 4 years', '3 to 4 years'))"
   ]
  },
  {
   "cell_type": "code",
   "execution_count": 20,
   "metadata": {},
   "outputs": [
    {
     "name": "stdout",
     "output_type": "stream",
     "text": [
      "(5.334483955821151, 3.158976932886799)\n"
     ]
    }
   ],
   "source": [
    "print(sbm_icah.get_model().sas_global())"
   ]
  }
 ],
 "metadata": {
  "kernelspec": {
   "display_name": "Python 3",
   "language": "python",
   "name": "python3"
  },
  "language_info": {
   "codemirror_mode": {
    "name": "ipython",
    "version": 3
   },
   "file_extension": ".py",
   "mimetype": "text/x-python",
   "name": "python",
   "nbconvert_exporter": "python",
   "pygments_lexer": "ipython3",
   "version": "3.7.3"
  }
 },
 "nbformat": 4,
 "nbformat_minor": 2
}
